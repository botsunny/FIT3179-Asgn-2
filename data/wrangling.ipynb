{
 "cells": [
  {
   "cell_type": "code",
   "execution_count": 1,
   "id": "37e1fbc8",
   "metadata": {},
   "outputs": [],
   "source": [
    "import numpy as np\n",
    "import pandas as pd\n",
    "from sklearn.preprocessing import MinMaxScaler"
   ]
  },
  {
   "cell_type": "code",
   "execution_count": 2,
   "id": "d1a84a4f",
   "metadata": {},
   "outputs": [],
   "source": [
    "candidates = pd.read_csv('candidates_ge15.csv')"
   ]
  },
  {
   "cell_type": "code",
   "execution_count": 21,
   "id": "da840598",
   "metadata": {},
   "outputs": [],
   "source": [
    "winners = candidates[candidates['result_desc'] == 'won']"
   ]
  },
  {
   "cell_type": "code",
   "execution_count": 22,
   "id": "45c4d281",
   "metadata": {},
   "outputs": [
    {
     "name": "stderr",
     "output_type": "stream",
     "text": [
      "/tmp/ipykernel_40371/2576665368.py:1: SettingWithCopyWarning: \n",
      "A value is trying to be set on a copy of a slice from a DataFrame\n",
      "\n",
      "See the caveats in the documentation: https://pandas.pydata.org/pandas-docs/stable/user_guide/indexing.html#returning-a-view-versus-a-copy\n",
      "  winners['party'].replace('BARISAN NASIONAL (BN)', 'Barisan Nasional (BN)', inplace=True)\n",
      "/tmp/ipykernel_40371/2576665368.py:2: SettingWithCopyWarning: \n",
      "A value is trying to be set on a copy of a slice from a DataFrame\n",
      "\n",
      "See the caveats in the documentation: https://pandas.pydata.org/pandas-docs/stable/user_guide/indexing.html#returning-a-view-versus-a-copy\n",
      "  winners['party'].replace('PAKATAN HARAPAN (PH)', 'Pakatan Harapan (PH)', inplace=True)\n",
      "/tmp/ipykernel_40371/2576665368.py:3: SettingWithCopyWarning: \n",
      "A value is trying to be set on a copy of a slice from a DataFrame\n",
      "\n",
      "See the caveats in the documentation: https://pandas.pydata.org/pandas-docs/stable/user_guide/indexing.html#returning-a-view-versus-a-copy\n",
      "  winners['party'].replace('PARTI TINDAKAN DEMOKRATIK (DAP)', 'Democratic Action Party (DAP)', inplace=True)\n",
      "/tmp/ipykernel_40371/2576665368.py:4: SettingWithCopyWarning: \n",
      "A value is trying to be set on a copy of a slice from a DataFrame\n",
      "\n",
      "See the caveats in the documentation: https://pandas.pydata.org/pandas-docs/stable/user_guide/indexing.html#returning-a-view-versus-a-copy\n",
      "  winners['party'].replace('IKATAN DEMOKRATIK MALAYSIA (MUDA)', 'Malaysian United Democratic Alliance (MUDA)', inplace=True)\n",
      "/tmp/ipykernel_40371/2576665368.py:5: SettingWithCopyWarning: \n",
      "A value is trying to be set on a copy of a slice from a DataFrame\n",
      "\n",
      "See the caveats in the documentation: https://pandas.pydata.org/pandas-docs/stable/user_guide/indexing.html#returning-a-view-versus-a-copy\n",
      "  winners['party'].replace('PERIKATAN NASIONAL (PN)', 'Perikatan Nasional (PN)', inplace=True)\n",
      "/tmp/ipykernel_40371/2576665368.py:6: SettingWithCopyWarning: \n",
      "A value is trying to be set on a copy of a slice from a DataFrame\n",
      "\n",
      "See the caveats in the documentation: https://pandas.pydata.org/pandas-docs/stable/user_guide/indexing.html#returning-a-view-versus-a-copy\n",
      "  winners['party'].replace('PARTI ISLAM SE MALAYSIA (PAS)', 'Parti Islam Se-Malaysia (PAS)', inplace=True)\n",
      "/tmp/ipykernel_40371/2576665368.py:7: SettingWithCopyWarning: \n",
      "A value is trying to be set on a copy of a slice from a DataFrame\n",
      "\n",
      "See the caveats in the documentation: https://pandas.pydata.org/pandas-docs/stable/user_guide/indexing.html#returning-a-view-versus-a-copy\n",
      "  winners['party'].replace('GABUNGAN PARTI SARAWAK (GPS)', 'Gabungan Parti Sarawak (GPS)', inplace=True)\n",
      "/tmp/ipykernel_40371/2576665368.py:8: SettingWithCopyWarning: \n",
      "A value is trying to be set on a copy of a slice from a DataFrame\n",
      "\n",
      "See the caveats in the documentation: https://pandas.pydata.org/pandas-docs/stable/user_guide/indexing.html#returning-a-view-versus-a-copy\n",
      "  winners['party'].replace('PARTI GABUNGAN RAKYAT SABAH (GRS)', 'Gabungan Rakyat Sabah (GRS)', inplace=True)\n",
      "/tmp/ipykernel_40371/2576665368.py:9: SettingWithCopyWarning: \n",
      "A value is trying to be set on a copy of a slice from a DataFrame\n",
      "\n",
      "See the caveats in the documentation: https://pandas.pydata.org/pandas-docs/stable/user_guide/indexing.html#returning-a-view-versus-a-copy\n",
      "  winners['party'].replace('PARTI WARISAN SABAH (WARISAN)', 'Parti Warisan (WARISAN)', inplace=True)\n",
      "/tmp/ipykernel_40371/2576665368.py:10: SettingWithCopyWarning: \n",
      "A value is trying to be set on a copy of a slice from a DataFrame\n",
      "\n",
      "See the caveats in the documentation: https://pandas.pydata.org/pandas-docs/stable/user_guide/indexing.html#returning-a-view-versus-a-copy\n",
      "  winners['party'].replace('PARTI KESEJAHTERAAN DEMOKRATIK MASYARAKAT (KDM)', 'Parti Kesejahteraan Demokratik Masyarakat (KDM)', inplace=True)\n",
      "/tmp/ipykernel_40371/2576665368.py:11: SettingWithCopyWarning: \n",
      "A value is trying to be set on a copy of a slice from a DataFrame\n",
      "\n",
      "See the caveats in the documentation: https://pandas.pydata.org/pandas-docs/stable/user_guide/indexing.html#returning-a-view-versus-a-copy\n",
      "  winners['party'].replace('PARTI BANGSA MALAYSIA (PBM)', 'Parti Bangsa Malaysia (PBM)', inplace=True)\n",
      "/tmp/ipykernel_40371/2576665368.py:12: SettingWithCopyWarning: \n",
      "A value is trying to be set on a copy of a slice from a DataFrame\n",
      "\n",
      "See the caveats in the documentation: https://pandas.pydata.org/pandas-docs/stable/user_guide/indexing.html#returning-a-view-versus-a-copy\n",
      "  winners['party'].replace('BEBAS (BEBAS)', 'Independent (BEBAS)', inplace=True)\n"
     ]
    }
   ],
   "source": [
    "winners['party'].replace('BARISAN NASIONAL (BN)', 'Barisan Nasional (BN)', inplace=True)\n",
    "winners['party'].replace('PAKATAN HARAPAN (PH)', 'Pakatan Harapan (PH)', inplace=True)\n",
    "winners['party'].replace('PARTI TINDAKAN DEMOKRATIK (DAP)', 'Democratic Action Party (DAP)', inplace=True)\n",
    "winners['party'].replace('IKATAN DEMOKRATIK MALAYSIA (MUDA)', 'Malaysian United Democratic Alliance (MUDA)', inplace=True)\n",
    "winners['party'].replace('PERIKATAN NASIONAL (PN)', 'Perikatan Nasional (PN)', inplace=True)\n",
    "winners['party'].replace('PARTI ISLAM SE MALAYSIA (PAS)', 'Parti Islam Se-Malaysia (PAS)', inplace=True)\n",
    "winners['party'].replace('GABUNGAN PARTI SARAWAK (GPS)', 'Gabungan Parti Sarawak (GPS)', inplace=True)\n",
    "winners['party'].replace('PARTI GABUNGAN RAKYAT SABAH (GRS)', 'Gabungan Rakyat Sabah (GRS)', inplace=True)\n",
    "winners['party'].replace('PARTI WARISAN SABAH (WARISAN)', 'Parti Warisan (WARISAN)', inplace=True)\n",
    "winners['party'].replace('PARTI KESEJAHTERAAN DEMOKRATIK MASYARAKAT (KDM)', 'Parti Kesejahteraan Demokratik Masyarakat (KDM)', inplace=True)\n",
    "winners['party'].replace('PARTI BANGSA MALAYSIA (PBM)', 'Parti Bangsa Malaysia (PBM)', inplace=True)\n",
    "winners['party'].replace('BEBAS (BEBAS)', 'Independent (BEBAS)', inplace=True)"
   ]
  },
  {
   "cell_type": "code",
   "execution_count": 3,
   "id": "2a7e304b",
   "metadata": {},
   "outputs": [],
   "source": [
    "census = pd.read_csv('census_parlimen.csv')"
   ]
  },
  {
   "cell_type": "code",
   "execution_count": 4,
   "id": "c23cd62b",
   "metadata": {},
   "outputs": [
    {
     "ename": "NameError",
     "evalue": "name 'winners' is not defined",
     "output_type": "error",
     "traceback": [
      "\u001b[0;31m---------------------------------------------------------------------------\u001b[0m",
      "\u001b[0;31mNameError\u001b[0m                                 Traceback (most recent call last)",
      "Input \u001b[0;32mIn [4]\u001b[0m, in \u001b[0;36m<cell line: 2>\u001b[0;34m()\u001b[0m\n\u001b[1;32m      1\u001b[0m results \u001b[38;5;241m=\u001b[39m pd\u001b[38;5;241m.\u001b[39mread_csv(\u001b[38;5;124m'\u001b[39m\u001b[38;5;124mresults_parlimen_ge15.csv\u001b[39m\u001b[38;5;124m'\u001b[39m)\n\u001b[0;32m----> 2\u001b[0m winners_complete \u001b[38;5;241m=\u001b[39m pd\u001b[38;5;241m.\u001b[39mmerge(\u001b[43mwinners\u001b[49m, results[[\u001b[38;5;124m'\u001b[39m\u001b[38;5;124mparlimen\u001b[39m\u001b[38;5;124m'\u001b[39m, \u001b[38;5;124m'\u001b[39m\u001b[38;5;124mundi_keluar_peti\u001b[39m\u001b[38;5;124m'\u001b[39m, \u001b[38;5;124m'\u001b[39m\u001b[38;5;124mmajoriti\u001b[39m\u001b[38;5;124m'\u001b[39m, \u001b[38;5;124m'\u001b[39m\u001b[38;5;124mpengundi_jumlah\u001b[39m\u001b[38;5;124m'\u001b[39m, \u001b[38;5;124m'\u001b[39m\u001b[38;5;124mperatus_keluar\u001b[39m\u001b[38;5;124m'\u001b[39m]], on\u001b[38;5;241m=\u001b[39m\u001b[38;5;124m'\u001b[39m\u001b[38;5;124mparlimen\u001b[39m\u001b[38;5;124m'\u001b[39m, how\u001b[38;5;241m=\u001b[39m\u001b[38;5;124m'\u001b[39m\u001b[38;5;124mleft\u001b[39m\u001b[38;5;124m'\u001b[39m)\n\u001b[1;32m      3\u001b[0m winners_complete \u001b[38;5;241m=\u001b[39m pd\u001b[38;5;241m.\u001b[39mmerge(winners_complete, census[[\u001b[38;5;124m'\u001b[39m\u001b[38;5;124mparlimen\u001b[39m\u001b[38;5;124m'\u001b[39m, \u001b[38;5;124m'\u001b[39m\u001b[38;5;124mpopulation_total\u001b[39m\u001b[38;5;124m'\u001b[39m, \u001b[38;5;124m'\u001b[39m\u001b[38;5;124marea_km2\u001b[39m\u001b[38;5;124m'\u001b[39m, \u001b[38;5;124m'\u001b[39m\u001b[38;5;124methnicity_proportion_bumi\u001b[39m\u001b[38;5;124m'\u001b[39m, \u001b[38;5;124m'\u001b[39m\u001b[38;5;124methnicity_proportion_chinese\u001b[39m\u001b[38;5;124m'\u001b[39m, \u001b[38;5;124m'\u001b[39m\u001b[38;5;124methnicity_proportion_indian\u001b[39m\u001b[38;5;124m'\u001b[39m, \u001b[38;5;124m'\u001b[39m\u001b[38;5;124methnicity_proportion_other\u001b[39m\u001b[38;5;124m'\u001b[39m]], on\u001b[38;5;241m=\u001b[39m\u001b[38;5;124m'\u001b[39m\u001b[38;5;124mparlimen\u001b[39m\u001b[38;5;124m'\u001b[39m, how\u001b[38;5;241m=\u001b[39m\u001b[38;5;124m'\u001b[39m\u001b[38;5;124mleft\u001b[39m\u001b[38;5;124m'\u001b[39m)\n",
      "\u001b[0;31mNameError\u001b[0m: name 'winners' is not defined"
     ]
    }
   ],
   "source": [
    "results = pd.read_csv('results_parlimen_ge15.csv')\n",
    "winners_complete = pd.merge(winners, results[['parlimen', 'undi_keluar_peti', 'majoriti', 'pengundi_jumlah', 'peratus_keluar']], on='parlimen', how='left')\n",
    "winners_complete = pd.merge(winners_complete, census[['parlimen', 'population_total', 'area_km2', 'ethnicity_proportion_bumi', 'ethnicity_proportion_chinese', 'ethnicity_proportion_indian', 'ethnicity_proportion_other']], on='parlimen', how='left')"
   ]
  },
  {
   "cell_type": "code",
   "execution_count": 25,
   "id": "8ebc60f6",
   "metadata": {},
   "outputs": [],
   "source": [
    "winners_complete.fillna(np.nan, inplace=True)"
   ]
  },
  {
   "cell_type": "code",
   "execution_count": 26,
   "id": "11301709",
   "metadata": {},
   "outputs": [],
   "source": [
    "def convert_to_int(value):\n",
    "    try:\n",
    "        return int(value)\n",
    "    except (ValueError, TypeError):\n",
    "        return value\n",
    "winners_complete['majoriti'] = winners_complete['majoriti'].apply(convert_to_int)"
   ]
  },
  {
   "cell_type": "code",
   "execution_count": 27,
   "id": "7e356e6f",
   "metadata": {},
   "outputs": [],
   "source": [
    "winners_complete['undi_keluar_peti'] = winners_complete['undi_keluar_peti'].apply(convert_to_int)"
   ]
  },
  {
   "cell_type": "code",
   "execution_count": 28,
   "id": "668534e2-df57-442c-80f3-0bac1f38c4f5",
   "metadata": {},
   "outputs": [
    {
     "data": {
      "text/html": [
       "<div>\n",
       "<style scoped>\n",
       "    .dataframe tbody tr th:only-of-type {\n",
       "        vertical-align: middle;\n",
       "    }\n",
       "\n",
       "    .dataframe tbody tr th {\n",
       "        vertical-align: top;\n",
       "    }\n",
       "\n",
       "    .dataframe thead th {\n",
       "        text-align: right;\n",
       "    }\n",
       "</style>\n",
       "<table border=\"1\" class=\"dataframe\">\n",
       "  <thead>\n",
       "    <tr style=\"text-align: right;\">\n",
       "      <th></th>\n",
       "      <th>state</th>\n",
       "      <th>parlimen</th>\n",
       "      <th>ballot_order</th>\n",
       "      <th>name</th>\n",
       "      <th>name_display</th>\n",
       "      <th>age</th>\n",
       "      <th>sex</th>\n",
       "      <th>ethnicity</th>\n",
       "      <th>party</th>\n",
       "      <th>votes</th>\n",
       "      <th>...</th>\n",
       "      <th>undi_keluar_peti</th>\n",
       "      <th>majoriti</th>\n",
       "      <th>pengundi_jumlah</th>\n",
       "      <th>peratus_keluar</th>\n",
       "      <th>population_total</th>\n",
       "      <th>area_km2</th>\n",
       "      <th>ethnicity_proportion_bumi</th>\n",
       "      <th>ethnicity_proportion_chinese</th>\n",
       "      <th>ethnicity_proportion_indian</th>\n",
       "      <th>ethnicity_proportion_other</th>\n",
       "    </tr>\n",
       "  </thead>\n",
       "  <tbody>\n",
       "    <tr>\n",
       "      <th>16</th>\n",
       "      <td>Kedah</td>\n",
       "      <td>P.017 Padang Serai</td>\n",
       "      <td>4</td>\n",
       "      <td>Azman Bin Nasrudin</td>\n",
       "      <td>DATO' CIKGU AZMAN</td>\n",
       "      <td>50.0</td>\n",
       "      <td>male</td>\n",
       "      <td>bumiputera</td>\n",
       "      <td>Perikatan Nasional (PN)</td>\n",
       "      <td>51637</td>\n",
       "      <td>...</td>\n",
       "      <td>NaN</td>\n",
       "      <td>NaN</td>\n",
       "      <td>133867</td>\n",
       "      <td>NaN</td>\n",
       "      <td>261937</td>\n",
       "      <td>343</td>\n",
       "      <td>70.114592</td>\n",
       "      <td>14.160656</td>\n",
       "      <td>15.204471</td>\n",
       "      <td>0.52028</td>\n",
       "    </tr>\n",
       "  </tbody>\n",
       "</table>\n",
       "<p>1 rows × 23 columns</p>\n",
       "</div>"
      ],
      "text/plain": [
       "    state            parlimen  ballot_order                name  \\\n",
       "16  Kedah  P.017 Padang Serai             4  Azman Bin Nasrudin   \n",
       "\n",
       "         name_display   age   sex   ethnicity                    party  votes  \\\n",
       "16  DATO' CIKGU AZMAN  50.0  male  bumiputera  Perikatan Nasional (PN)  51637   \n",
       "\n",
       "    ...  undi_keluar_peti majoriti  pengundi_jumlah  peratus_keluar  \\\n",
       "16  ...               NaN      NaN           133867             NaN   \n",
       "\n",
       "    population_total  area_km2  ethnicity_proportion_bumi  \\\n",
       "16            261937       343                  70.114592   \n",
       "\n",
       "    ethnicity_proportion_chinese  ethnicity_proportion_indian  \\\n",
       "16                     14.160656                    15.204471   \n",
       "\n",
       "    ethnicity_proportion_other  \n",
       "16                     0.52028  \n",
       "\n",
       "[1 rows x 23 columns]"
      ]
     },
     "execution_count": 28,
     "metadata": {},
     "output_type": "execute_result"
    }
   ],
   "source": [
    "winners_complete[winners_complete['parlimen'] == 'P.017 Padang Serai']"
   ]
  },
  {
   "cell_type": "code",
   "execution_count": 30,
   "id": "3e63c4e6",
   "metadata": {},
   "outputs": [],
   "source": [
    "winners_complete.to_csv('wrangled_winners_ge15.csv', index=False)"
   ]
  },
  {
   "cell_type": "code",
   "execution_count": 35,
   "id": "547b05f9",
   "metadata": {},
   "outputs": [
    {
     "data": {
      "text/plain": [
       "count      222.000000\n",
       "mean      1305.269491\n",
       "std       2464.678845\n",
       "min          1.273298\n",
       "25%         57.831362\n",
       "50%        204.926797\n",
       "75%       1069.305376\n",
       "max      13475.000000\n",
       "dtype: float64"
      ]
     },
     "execution_count": 35,
     "metadata": {},
     "output_type": "execute_result"
    }
   ],
   "source": [
    "(winners_complete['population_total'] / winners_complete['area_km2']).describe()"
   ]
  },
  {
   "cell_type": "code",
   "execution_count": 5,
   "id": "64b7a889",
   "metadata": {},
   "outputs": [],
   "source": [
    "voters = pd.read_csv('voters_ge15.csv')"
   ]
  },
  {
   "cell_type": "code",
   "execution_count": 14,
   "id": "c1082e58",
   "metadata": {},
   "outputs": [],
   "source": [
    "ages = voters[voters.columns[4:22]].melt().groupby('variable', as_index=False)['value'].sum()"
   ]
  },
  {
   "cell_type": "code",
   "execution_count": 31,
   "id": "fa363396",
   "metadata": {},
   "outputs": [],
   "source": [
    "voters_age = pd.DataFrame()\n",
    "for index, row in ages.iterrows():\n",
    "    unpacked = row['variable'].split('_')\n",
    "    if len(unpacked) == 2:\n",
    "        entry = {'gender': [unpacked[0]], 'age_group': [unpacked[1]], 'population': [row['value']]}\n",
    "    else:\n",
    "        entry = {'gender': [unpacked[0]], 'age_group': [f'{unpacked[1]}-{unpacked[2]}'], 'population': [row['value']]}\n",
    "    entry = pd.DataFrame(entry)\n",
    "    voters_age = pd.concat([voters_age, entry], ignore_index=True)"
   ]
  },
  {
   "cell_type": "code",
   "execution_count": 32,
   "id": "783b6bf8",
   "metadata": {},
   "outputs": [
    {
     "data": {
      "text/html": [
       "<div>\n",
       "<style scoped>\n",
       "    .dataframe tbody tr th:only-of-type {\n",
       "        vertical-align: middle;\n",
       "    }\n",
       "\n",
       "    .dataframe tbody tr th {\n",
       "        vertical-align: top;\n",
       "    }\n",
       "\n",
       "    .dataframe thead th {\n",
       "        text-align: right;\n",
       "    }\n",
       "</style>\n",
       "<table border=\"1\" class=\"dataframe\">\n",
       "  <thead>\n",
       "    <tr style=\"text-align: right;\">\n",
       "      <th></th>\n",
       "      <th>gender</th>\n",
       "      <th>age_group</th>\n",
       "      <th>population</th>\n",
       "    </tr>\n",
       "  </thead>\n",
       "  <tbody>\n",
       "    <tr>\n",
       "      <th>0</th>\n",
       "      <td>female</td>\n",
       "      <td>18-20</td>\n",
       "      <td>676070</td>\n",
       "    </tr>\n",
       "    <tr>\n",
       "      <th>1</th>\n",
       "      <td>female</td>\n",
       "      <td>21-29</td>\n",
       "      <td>2248215</td>\n",
       "    </tr>\n",
       "    <tr>\n",
       "      <th>2</th>\n",
       "      <td>female</td>\n",
       "      <td>30-39</td>\n",
       "      <td>2297015</td>\n",
       "    </tr>\n",
       "    <tr>\n",
       "      <th>3</th>\n",
       "      <td>female</td>\n",
       "      <td>40-49</td>\n",
       "      <td>1816016</td>\n",
       "    </tr>\n",
       "    <tr>\n",
       "      <th>4</th>\n",
       "      <td>female</td>\n",
       "      <td>50-59</td>\n",
       "      <td>1537394</td>\n",
       "    </tr>\n",
       "    <tr>\n",
       "      <th>5</th>\n",
       "      <td>female</td>\n",
       "      <td>60-69</td>\n",
       "      <td>1187031</td>\n",
       "    </tr>\n",
       "    <tr>\n",
       "      <th>6</th>\n",
       "      <td>female</td>\n",
       "      <td>70-79</td>\n",
       "      <td>596341</td>\n",
       "    </tr>\n",
       "    <tr>\n",
       "      <th>7</th>\n",
       "      <td>female</td>\n",
       "      <td>80-89</td>\n",
       "      <td>214438</td>\n",
       "    </tr>\n",
       "    <tr>\n",
       "      <th>8</th>\n",
       "      <td>female</td>\n",
       "      <td>90+</td>\n",
       "      <td>49631</td>\n",
       "    </tr>\n",
       "    <tr>\n",
       "      <th>9</th>\n",
       "      <td>male</td>\n",
       "      <td>18-20</td>\n",
       "      <td>717479</td>\n",
       "    </tr>\n",
       "    <tr>\n",
       "      <th>10</th>\n",
       "      <td>male</td>\n",
       "      <td>21-29</td>\n",
       "      <td>2366214</td>\n",
       "    </tr>\n",
       "    <tr>\n",
       "      <th>11</th>\n",
       "      <td>male</td>\n",
       "      <td>30-39</td>\n",
       "      <td>2384332</td>\n",
       "    </tr>\n",
       "    <tr>\n",
       "      <th>12</th>\n",
       "      <td>male</td>\n",
       "      <td>40-49</td>\n",
       "      <td>1829232</td>\n",
       "    </tr>\n",
       "    <tr>\n",
       "      <th>13</th>\n",
       "      <td>male</td>\n",
       "      <td>50-59</td>\n",
       "      <td>1490104</td>\n",
       "    </tr>\n",
       "    <tr>\n",
       "      <th>14</th>\n",
       "      <td>male</td>\n",
       "      <td>60-69</td>\n",
       "      <td>1090040</td>\n",
       "    </tr>\n",
       "    <tr>\n",
       "      <th>15</th>\n",
       "      <td>male</td>\n",
       "      <td>70-79</td>\n",
       "      <td>497610</td>\n",
       "    </tr>\n",
       "    <tr>\n",
       "      <th>16</th>\n",
       "      <td>male</td>\n",
       "      <td>80-89</td>\n",
       "      <td>139193</td>\n",
       "    </tr>\n",
       "    <tr>\n",
       "      <th>17</th>\n",
       "      <td>male</td>\n",
       "      <td>90+</td>\n",
       "      <td>37283</td>\n",
       "    </tr>\n",
       "  </tbody>\n",
       "</table>\n",
       "</div>"
      ],
      "text/plain": [
       "    gender age_group  population\n",
       "0   female     18-20      676070\n",
       "1   female     21-29     2248215\n",
       "2   female     30-39     2297015\n",
       "3   female     40-49     1816016\n",
       "4   female     50-59     1537394\n",
       "5   female     60-69     1187031\n",
       "6   female     70-79      596341\n",
       "7   female     80-89      214438\n",
       "8   female       90+       49631\n",
       "9     male     18-20      717479\n",
       "10    male     21-29     2366214\n",
       "11    male     30-39     2384332\n",
       "12    male     40-49     1829232\n",
       "13    male     50-59     1490104\n",
       "14    male     60-69     1090040\n",
       "15    male     70-79      497610\n",
       "16    male     80-89      139193\n",
       "17    male       90+       37283"
      ]
     },
     "execution_count": 32,
     "metadata": {},
     "output_type": "execute_result"
    }
   ],
   "source": [
    "voters_age"
   ]
  },
  {
   "cell_type": "code",
   "execution_count": 33,
   "id": "edef7e91",
   "metadata": {},
   "outputs": [],
   "source": [
    "voters_age.to_csv('wrangled_voters_age_ge15.csv', index=False)"
   ]
  },
  {
   "cell_type": "code",
   "execution_count": 90,
   "id": "6e887239",
   "metadata": {},
   "outputs": [],
   "source": [
    "ge15 = pd.read_csv('candidates_ge15.csv')\n",
    "ge14 = pd.read_csv('candidates_ge14.csv')"
   ]
  },
  {
   "cell_type": "code",
   "execution_count": 91,
   "id": "dc73cff9",
   "metadata": {},
   "outputs": [],
   "source": [
    "ge15 = ge15[ge15['result'] == 1]\n",
    "ge14 = ge14[ge14['result'] == 1]"
   ]
  },
  {
   "cell_type": "code",
   "execution_count": 8,
   "id": "4e1770c2",
   "metadata": {},
   "outputs": [
    {
     "data": {
      "text/plain": [
       "array(['PERIKATAN NASIONAL (PN)', 'PAKATAN HARAPAN (PH)',\n",
       "       'PARTI ISLAM SE MALAYSIA (PAS)', 'BARISAN NASIONAL (BN)',\n",
       "       'IKATAN DEMOKRATIK MALAYSIA (MUDA)', 'BEBAS (BEBAS)',\n",
       "       'PARTI KESEJAHTERAAN DEMOKRATIK MASYARAKAT (KDM)',\n",
       "       'PARTI WARISAN SABAH (WARISAN)',\n",
       "       'PARTI GABUNGAN RAKYAT SABAH (GRS)',\n",
       "       'PARTI TINDAKAN DEMOKRATIK (DAP)', 'GABUNGAN PARTI SARAWAK (GPS)',\n",
       "       'PARTI BANGSA MALAYSIA (PBM)'], dtype=object)"
      ]
     },
     "execution_count": 8,
     "metadata": {},
     "output_type": "execute_result"
    }
   ],
   "source": [
    "ge15['party'].unique()"
   ]
  },
  {
   "cell_type": "code",
   "execution_count": 9,
   "id": "aba9dd28",
   "metadata": {},
   "outputs": [
    {
     "data": {
      "text/plain": [
       "array(['BARISAN NASIONAL (BN)', 'PARTI KEADILAN RAKYAT (PKR)',\n",
       "       'PARTI ISLAM SE MALAYSIA (PAS)', 'BEBAS (BEBAS)',\n",
       "       'PARTI WARISAN SABAH (WARISAN)', 'PARTI TINDAKAN DEMOKRATIK (DAP)',\n",
       "       'PARTI SOLIDARITI TANAH AIRKU (SOLIDARITI)'], dtype=object)"
      ]
     },
     "execution_count": 9,
     "metadata": {},
     "output_type": "execute_result"
    }
   ],
   "source": [
    "ge14['party'].unique()"
   ]
  },
  {
   "cell_type": "code",
   "execution_count": 92,
   "id": "f1e65403",
   "metadata": {},
   "outputs": [],
   "source": [
    "parties = {\n",
    "    'PERIKATAN NASIONAL (PN)': 'Perikatan Nasional (PN)',\n",
    "    'PAKATAN HARAPAN (PH)': 'Pakatan Harapan (PH)',\n",
    "    'PARTI ISLAM SE MALAYSIA (PAS)': 'Perikatan Nasional (PN)',\n",
    "    'BARISAN NASIONAL (BN)': 'Barisan Nasional (BN)',\n",
    "    'IKATAN DEMOKRATIK MALAYSIA (MUDA)': 'Pakatan Harapan (PH)',\n",
    "#     'BEBAS (BEBAS)': 'Independent (BEBAS)',\n",
    "   #'PARTI KESEJAHTERAAN DEMOKRATIK MASYARAKAT (KDM)': 'Gabungan Rakyat Sabah (GRS)',\n",
    "   #'PARTI WARISAN SABAH (WARISAN)': 'Parti Warisan (WARISAN)',\n",
    "   #'PARTI GABUNGAN RAKYAT SABAH (GRS)': 'Gabungan Rakyat Sabah (GRS)',\n",
    "   'PARTI TINDAKAN DEMOKRATIK (DAP)': 'Pakatan Harapan (PH)',\n",
    "   #'GABUNGAN PARTI SARAWAK (GPS)': 'Gabungan Parti Sarawak (GPS)',\n",
    "   #'PARTI BANGSA MALAYSIA (PBM)': 'Parti Bangsa Malaysia (PBM)',\n",
    "    'PARTI KEADILAN RAKYAT (PKR)': 'Pakatan Harapan (PH)',\n",
    "    #'PARTI SOLIDARITI TANAH AIRKU (SOLIDARITI)': 'Gabungan Rakyat Sabah (GRS)'\n",
    "}"
   ]
  },
  {
   "cell_type": "code",
   "execution_count": 93,
   "id": "f2f76baf",
   "metadata": {},
   "outputs": [],
   "source": [
    "for index, row in ge14.iterrows():\n",
    "    if row['party'] in parties:\n",
    "        ge14.at[index, 'party'] = parties[row['party']]\n",
    "        \n",
    "for index, row in ge15.iterrows():\n",
    "    if row['party'] in parties:\n",
    "        ge15.at[index, 'party'] = parties[row['party']]"
   ]
  },
  {
   "cell_type": "code",
   "execution_count": 94,
   "id": "847f71c1",
   "metadata": {},
   "outputs": [],
   "source": [
    "ge14 = ge14[ge14['party'].isin(['Barisan Nasional (BN)', 'Pakatan Harapan (PH)', 'Perikatan Nasional (PN)'])]\n",
    "ge15 = ge15[ge15['party'].isin(['Barisan Nasional (BN)', 'Pakatan Harapan (PH)', 'Perikatan Nasional (PN)'])]"
   ]
  },
  {
   "cell_type": "code",
   "execution_count": 95,
   "id": "bfbfb001",
   "metadata": {},
   "outputs": [],
   "source": [
    "ge14['state'].replace('W.P. Kuala Lumpur', 'Wilayah Persekutuan', inplace=True)\n",
    "ge15['state'].replace('W.P. Kuala Lumpur', 'Wilayah Persekutuan', inplace=True)\n",
    "\n",
    "ge14['state'].replace('W.P. Labuan', 'Wilayah Persekutuan', inplace=True)\n",
    "ge15['state'].replace('W.P. Labuan', 'Wilayah Persekutuan', inplace=True)\n",
    "\n",
    "ge14['state'].replace('W.P. Putrajaya', 'Wilayah Persekutuan', inplace=True)\n",
    "ge15['state'].replace('W.P. Putrajaya', 'Wilayah Persekutuan', inplace=True)"
   ]
  },
  {
   "cell_type": "code",
   "execution_count": 96,
   "id": "9fdb66f0",
   "metadata": {},
   "outputs": [],
   "source": [
    "ge14_gb = ge14.groupby(['state', 'party'])['party'].count()"
   ]
  },
  {
   "cell_type": "code",
   "execution_count": 97,
   "id": "56762afb",
   "metadata": {},
   "outputs": [],
   "source": [
    "# Create a MultiIndex with all possible combinations of states and parties\n",
    "all_states = ge14_gb.index.get_level_values('state').unique()\n",
    "all_parties = ge14_gb.index.get_level_values('party').unique()\n",
    "all_combinations = pd.MultiIndex.from_product([all_states, all_parties], names=['state', 'party'])\n",
    "\n",
    "# Reindex the grouped DataFrame with the MultiIndex, filling missing values with zeroes\n",
    "ge14_fin = ge14_gb.reindex(all_combinations, fill_value=0).reset_index(name='count')"
   ]
  },
  {
   "cell_type": "code",
   "execution_count": 98,
   "id": "447d9d91",
   "metadata": {},
   "outputs": [],
   "source": [
    "ge15_gb = ge15.groupby(['state', 'party'])['party'].count()"
   ]
  },
  {
   "cell_type": "code",
   "execution_count": 99,
   "id": "f8d8a8f9",
   "metadata": {},
   "outputs": [],
   "source": [
    "# Create a MultiIndex with all possible combinations of states and parties\n",
    "all_states = ge15_gb.index.get_level_values('state').unique()\n",
    "all_parties = ge15_gb.index.get_level_values('party').unique()\n",
    "all_combinations = pd.MultiIndex.from_product([all_states, all_parties], names=['state', 'party'])\n",
    "\n",
    "# Reindex the grouped DataFrame with the MultiIndex, filling missing values with zeroes\n",
    "ge15_fin = ge15_gb.reindex(all_combinations, fill_value=0).reset_index(name='count')"
   ]
  },
  {
   "cell_type": "code",
   "execution_count": 104,
   "id": "b9882494",
   "metadata": {},
   "outputs": [],
   "source": [
    "ge14_15 = pd.merge(ge14_fin, ge15_fin, on=['state', 'party'])\n",
    "ge14_15.columns = ['state', 'party', '14', '15']"
   ]
  },
  {
   "cell_type": "code",
   "execution_count": 105,
   "id": "9c61fef9",
   "metadata": {},
   "outputs": [],
   "source": [
    "ge14_15 = pd.melt(ge14_15, id_vars=['state', 'party'], var_name='election', value_name='seats')\n",
    "col_order = ['seats', 'state', 'election', 'party']\n",
    "ge14_15 = ge14_15[col_order]"
   ]
  },
  {
   "cell_type": "code",
   "execution_count": 113,
   "id": "eb5c1b42",
   "metadata": {},
   "outputs": [],
   "source": [
    "ge14_15['election'] = ge14_15['election'].astype(int)"
   ]
  },
  {
   "cell_type": "code",
   "execution_count": 114,
   "id": "2732c913",
   "metadata": {},
   "outputs": [],
   "source": [
    "ge14_15.to_csv('wrangled_ge14_15.csv', index=False)"
   ]
  },
  {
   "cell_type": "code",
   "execution_count": 115,
   "id": "2f31a62c",
   "metadata": {},
   "outputs": [
    {
     "data": {
      "text/plain": [
       "0     14\n",
       "1     14\n",
       "2     14\n",
       "3     14\n",
       "4     14\n",
       "      ..\n",
       "79    15\n",
       "80    15\n",
       "81    15\n",
       "82    15\n",
       "83    15\n",
       "Name: election, Length: 84, dtype: int64"
      ]
     },
     "execution_count": 115,
     "metadata": {},
     "output_type": "execute_result"
    }
   ],
   "source": [
    "ge14_15['election']"
   ]
  },
  {
   "cell_type": "code",
   "execution_count": 7,
   "id": "74605795-b386-4e6d-99ee-9954b7d9d4d5",
   "metadata": {},
   "outputs": [
    {
     "data": {
      "text/plain": [
       "Index(['state', 'parlimen', 'code_state', 'code_parlimen', 'year', 'area_km2',\n",
       "       'population_total', 'nationality_citizen', 'nationality_non_citizen',\n",
       "       'sex_male', 'sex_female', 'ethnicity_proportion_bumi',\n",
       "       'ethnicity_proportion_chinese', 'ethnicity_proportion_indian',\n",
       "       'ethnicity_proportion_other', 'age_proportion_0_14',\n",
       "       'age_proportion_15_64', 'age_proportion_65_above',\n",
       "       'age_proportion_18_above', 'housing_total', 'household_total',\n",
       "       'household_size_avg', 'live_births', 'live_births_male',\n",
       "       'live_births_female', 'deaths', 'deaths_male', 'deaths_female',\n",
       "       'labour_participation_rate', 'labour_unemployment_rate',\n",
       "       'income_median', 'income_avg', 'expenditure_avg', 'gini',\n",
       "       'poverty_incidence', 'sme_small', 'sme_micro', 'sme_medium',\n",
       "       'businesses_agriculture', 'businesses_crops', 'businesses_livestock',\n",
       "       'businesses_fisheries', 'businesses_forestry', 'businesses_mining',\n",
       "       'businesses_manufacturing', 'businesses_construction',\n",
       "       'businesses_services', 'utilities_pipedwater_home',\n",
       "       'utilities_pipedwater_public', 'utilities_pipedwater_other',\n",
       "       'utilities_electricity_home', 'utilities_electricity_none'],\n",
       "      dtype='object')"
      ]
     },
     "execution_count": 7,
     "metadata": {},
     "output_type": "execute_result"
    }
   ],
   "source": [
    "census.columns"
   ]
  },
  {
   "cell_type": "code",
   "execution_count": 6,
   "id": "4faf2d74",
   "metadata": {},
   "outputs": [],
   "source": [
    "scaler = MinMaxScaler(feature_range=(0, 100))"
   ]
  },
  {
   "cell_type": "code",
   "execution_count": 7,
   "id": "f0da8543",
   "metadata": {},
   "outputs": [
    {
     "name": "stderr",
     "output_type": "stream",
     "text": [
      "/tmp/ipykernel_7531/4164457308.py:2: SettingWithCopyWarning: \n",
      "A value is trying to be set on a copy of a slice from a DataFrame.\n",
      "Try using .loc[row_indexer,col_indexer] = value instead\n",
      "\n",
      "See the caveats in the documentation: https://pandas.pydata.org/pandas-docs/stable/user_guide/indexing.html#returning-a-view-versus-a-copy\n",
      "  social_int['population_density_norm'] = census['population_total'] / census['area_km2']\n",
      "/tmp/ipykernel_7531/4164457308.py:3: SettingWithCopyWarning: \n",
      "A value is trying to be set on a copy of a slice from a DataFrame.\n",
      "Try using .loc[row_indexer,col_indexer] = value instead\n",
      "\n",
      "See the caveats in the documentation: https://pandas.pydata.org/pandas-docs/stable/user_guide/indexing.html#returning-a-view-versus-a-copy\n",
      "  social_int['household_size_avg_norm'] = census['household_size_avg']\n",
      "/tmp/ipykernel_7531/4164457308.py:4: SettingWithCopyWarning: \n",
      "A value is trying to be set on a copy of a slice from a DataFrame.\n",
      "Try using .loc[row_indexer,col_indexer] = value instead\n",
      "\n",
      "See the caveats in the documentation: https://pandas.pydata.org/pandas-docs/stable/user_guide/indexing.html#returning-a-view-versus-a-copy\n",
      "  social_int['population_density_norm'] = scaler.fit_transform(social_int[['population_density_norm']])\n",
      "/tmp/ipykernel_7531/4164457308.py:5: SettingWithCopyWarning: \n",
      "A value is trying to be set on a copy of a slice from a DataFrame.\n",
      "Try using .loc[row_indexer,col_indexer] = value instead\n",
      "\n",
      "See the caveats in the documentation: https://pandas.pydata.org/pandas-docs/stable/user_guide/indexing.html#returning-a-view-versus-a-copy\n",
      "  social_int['household_size_avg_norm'] = scaler.fit_transform(social_int[['household_size_avg_norm']])\n",
      "/tmp/ipykernel_7531/4164457308.py:6: SettingWithCopyWarning: \n",
      "A value is trying to be set on a copy of a slice from a DataFrame.\n",
      "Try using .loc[row_indexer,col_indexer] = value instead\n",
      "\n",
      "See the caveats in the documentation: https://pandas.pydata.org/pandas-docs/stable/user_guide/indexing.html#returning-a-view-versus-a-copy\n",
      "  social_int['housing_per_hundred'] = census['housing_total'] / census['population_total'] * 100\n",
      "/tmp/ipykernel_7531/4164457308.py:7: SettingWithCopyWarning: \n",
      "A value is trying to be set on a copy of a slice from a DataFrame.\n",
      "Try using .loc[row_indexer,col_indexer] = value instead\n",
      "\n",
      "See the caveats in the documentation: https://pandas.pydata.org/pandas-docs/stable/user_guide/indexing.html#returning-a-view-versus-a-copy\n",
      "  social_int['births_per_thousand'] = census['live_births'] / census['population_total'] * 1000\n",
      "/tmp/ipykernel_7531/4164457308.py:8: SettingWithCopyWarning: \n",
      "A value is trying to be set on a copy of a slice from a DataFrame.\n",
      "Try using .loc[row_indexer,col_indexer] = value instead\n",
      "\n",
      "See the caveats in the documentation: https://pandas.pydata.org/pandas-docs/stable/user_guide/indexing.html#returning-a-view-versus-a-copy\n",
      "  social_int['deaths_per_thousand'] = census['deaths'] / census['population_total'] * 1000\n"
     ]
    }
   ],
   "source": [
    "social_int = census[['parlimen']]\n",
    "social_int['population_density_norm'] = census['population_total'] / census['area_km2']\n",
    "social_int['household_size_avg_norm'] = census['household_size_avg']\n",
    "social_int['population_density_norm'] = scaler.fit_transform(social_int[['population_density_norm']])\n",
    "social_int['household_size_avg_norm'] = scaler.fit_transform(social_int[['household_size_avg_norm']])\n",
    "social_int['housing_per_hundred'] = census['housing_total'] / census['population_total'] * 100\n",
    "social_int['births_per_thousand'] = census['live_births'] / census['population_total'] * 1000\n",
    "social_int['deaths_per_thousand'] = census['deaths'] / census['population_total'] * 1000"
   ]
  },
  {
   "cell_type": "code",
   "execution_count": 8,
   "id": "eb21a1da",
   "metadata": {},
   "outputs": [
    {
     "data": {
      "text/html": [
       "<div>\n",
       "<style scoped>\n",
       "    .dataframe tbody tr th:only-of-type {\n",
       "        vertical-align: middle;\n",
       "    }\n",
       "\n",
       "    .dataframe tbody tr th {\n",
       "        vertical-align: top;\n",
       "    }\n",
       "\n",
       "    .dataframe thead th {\n",
       "        text-align: right;\n",
       "    }\n",
       "</style>\n",
       "<table border=\"1\" class=\"dataframe\">\n",
       "  <thead>\n",
       "    <tr style=\"text-align: right;\">\n",
       "      <th></th>\n",
       "      <th>population_density_norm</th>\n",
       "      <th>household_size_avg_norm</th>\n",
       "      <th>housing_per_hundred</th>\n",
       "      <th>births_per_thousand</th>\n",
       "      <th>deaths_per_thousand</th>\n",
       "    </tr>\n",
       "  </thead>\n",
       "  <tbody>\n",
       "    <tr>\n",
       "      <th>count</th>\n",
       "      <td>222.000000</td>\n",
       "      <td>222.000000</td>\n",
       "      <td>222.000000</td>\n",
       "      <td>222.000000</td>\n",
       "      <td>222.000000</td>\n",
       "    </tr>\n",
       "    <tr>\n",
       "      <th>mean</th>\n",
       "      <td>9.678066</td>\n",
       "      <td>39.624107</td>\n",
       "      <td>29.772809</td>\n",
       "      <td>14.709032</td>\n",
       "      <td>5.448853</td>\n",
       "    </tr>\n",
       "    <tr>\n",
       "      <th>std</th>\n",
       "      <td>18.292481</td>\n",
       "      <td>17.223398</td>\n",
       "      <td>4.691158</td>\n",
       "      <td>2.718494</td>\n",
       "      <td>1.106279</td>\n",
       "    </tr>\n",
       "    <tr>\n",
       "      <th>min</th>\n",
       "      <td>0.000000</td>\n",
       "      <td>0.000000</td>\n",
       "      <td>18.273488</td>\n",
       "      <td>9.049384</td>\n",
       "      <td>1.923042</td>\n",
       "    </tr>\n",
       "    <tr>\n",
       "      <th>25%</th>\n",
       "      <td>0.419766</td>\n",
       "      <td>27.586207</td>\n",
       "      <td>26.785366</td>\n",
       "      <td>13.307792</td>\n",
       "      <td>4.393234</td>\n",
       "    </tr>\n",
       "    <tr>\n",
       "      <th>50%</th>\n",
       "      <td>1.511486</td>\n",
       "      <td>34.482759</td>\n",
       "      <td>29.888606</td>\n",
       "      <td>14.334137</td>\n",
       "      <td>5.656381</td>\n",
       "    </tr>\n",
       "    <tr>\n",
       "      <th>75%</th>\n",
       "      <td>7.926776</td>\n",
       "      <td>48.275862</td>\n",
       "      <td>32.344078</td>\n",
       "      <td>15.063761</td>\n",
       "      <td>6.114460</td>\n",
       "    </tr>\n",
       "    <tr>\n",
       "      <th>max</th>\n",
       "      <td>100.000000</td>\n",
       "      <td>100.000000</td>\n",
       "      <td>45.484426</td>\n",
       "      <td>24.603995</td>\n",
       "      <td>7.952384</td>\n",
       "    </tr>\n",
       "  </tbody>\n",
       "</table>\n",
       "</div>"
      ],
      "text/plain": [
       "       population_density_norm  household_size_avg_norm  housing_per_hundred  \\\n",
       "count               222.000000               222.000000           222.000000   \n",
       "mean                  9.678066                39.624107            29.772809   \n",
       "std                  18.292481                17.223398             4.691158   \n",
       "min                   0.000000                 0.000000            18.273488   \n",
       "25%                   0.419766                27.586207            26.785366   \n",
       "50%                   1.511486                34.482759            29.888606   \n",
       "75%                   7.926776                48.275862            32.344078   \n",
       "max                 100.000000               100.000000            45.484426   \n",
       "\n",
       "       births_per_thousand  deaths_per_thousand  \n",
       "count           222.000000           222.000000  \n",
       "mean             14.709032             5.448853  \n",
       "std               2.718494             1.106279  \n",
       "min               9.049384             1.923042  \n",
       "25%              13.307792             4.393234  \n",
       "50%              14.334137             5.656381  \n",
       "75%              15.063761             6.114460  \n",
       "max              24.603995             7.952384  "
      ]
     },
     "execution_count": 8,
     "metadata": {},
     "output_type": "execute_result"
    }
   ],
   "source": [
    "social_int.describe()"
   ]
  },
  {
   "cell_type": "code",
   "execution_count": 9,
   "id": "47680d9d",
   "metadata": {},
   "outputs": [
    {
     "name": "stderr",
     "output_type": "stream",
     "text": [
      "/tmp/ipykernel_7531/3448699268.py:2: SettingWithCopyWarning: \n",
      "A value is trying to be set on a copy of a slice from a DataFrame.\n",
      "Try using .loc[row_indexer,col_indexer] = value instead\n",
      "\n",
      "See the caveats in the documentation: https://pandas.pydata.org/pandas-docs/stable/user_guide/indexing.html#returning-a-view-versus-a-copy\n",
      "  econ_int['income_median_norm'] = census['income_median']\n",
      "/tmp/ipykernel_7531/3448699268.py:3: SettingWithCopyWarning: \n",
      "A value is trying to be set on a copy of a slice from a DataFrame.\n",
      "Try using .loc[row_indexer,col_indexer] = value instead\n",
      "\n",
      "See the caveats in the documentation: https://pandas.pydata.org/pandas-docs/stable/user_guide/indexing.html#returning-a-view-versus-a-copy\n",
      "  econ_int['expenditure_avg_norm'] = census['expenditure_avg']\n",
      "/tmp/ipykernel_7531/3448699268.py:4: SettingWithCopyWarning: \n",
      "A value is trying to be set on a copy of a slice from a DataFrame.\n",
      "Try using .loc[row_indexer,col_indexer] = value instead\n",
      "\n",
      "See the caveats in the documentation: https://pandas.pydata.org/pandas-docs/stable/user_guide/indexing.html#returning-a-view-versus-a-copy\n",
      "  econ_int['income_median_norm'] = scaler.fit_transform(econ_int[['income_median_norm']])\n",
      "/tmp/ipykernel_7531/3448699268.py:5: SettingWithCopyWarning: \n",
      "A value is trying to be set on a copy of a slice from a DataFrame.\n",
      "Try using .loc[row_indexer,col_indexer] = value instead\n",
      "\n",
      "See the caveats in the documentation: https://pandas.pydata.org/pandas-docs/stable/user_guide/indexing.html#returning-a-view-versus-a-copy\n",
      "  econ_int['expenditure_avg_norm'] = scaler.fit_transform(econ_int[['expenditure_avg_norm']])\n",
      "/tmp/ipykernel_7531/3448699268.py:6: SettingWithCopyWarning: \n",
      "A value is trying to be set on a copy of a slice from a DataFrame.\n",
      "Try using .loc[row_indexer,col_indexer] = value instead\n",
      "\n",
      "See the caveats in the documentation: https://pandas.pydata.org/pandas-docs/stable/user_guide/indexing.html#returning-a-view-versus-a-copy\n",
      "  econ_int['gini'] = census['gini'] * 100\n"
     ]
    }
   ],
   "source": [
    "econ_int = census[['parlimen', 'labour_participation_rate', 'labour_unemployment_rate', 'poverty_incidence']]\n",
    "econ_int['income_median_norm'] = census['income_median']\n",
    "econ_int['expenditure_avg_norm'] = census['expenditure_avg']\n",
    "econ_int['income_median_norm'] = scaler.fit_transform(econ_int[['income_median_norm']])\n",
    "econ_int['expenditure_avg_norm'] = scaler.fit_transform(econ_int[['expenditure_avg_norm']])\n",
    "econ_int['gini'] = census['gini'] * 100"
   ]
  },
  {
   "cell_type": "code",
   "execution_count": 53,
   "id": "97940a80",
   "metadata": {},
   "outputs": [
    {
     "data": {
      "text/html": [
       "<div>\n",
       "<style scoped>\n",
       "    .dataframe tbody tr th:only-of-type {\n",
       "        vertical-align: middle;\n",
       "    }\n",
       "\n",
       "    .dataframe tbody tr th {\n",
       "        vertical-align: top;\n",
       "    }\n",
       "\n",
       "    .dataframe thead th {\n",
       "        text-align: right;\n",
       "    }\n",
       "</style>\n",
       "<table border=\"1\" class=\"dataframe\">\n",
       "  <thead>\n",
       "    <tr style=\"text-align: right;\">\n",
       "      <th></th>\n",
       "      <th>labour_participation_rate</th>\n",
       "      <th>labour_unemployment_rate</th>\n",
       "      <th>poverty_incidence</th>\n",
       "      <th>income_median_norm</th>\n",
       "      <th>expenditure_avg_norm</th>\n",
       "      <th>gini</th>\n",
       "    </tr>\n",
       "  </thead>\n",
       "  <tbody>\n",
       "    <tr>\n",
       "      <th>count</th>\n",
       "      <td>222.000000</td>\n",
       "      <td>222.000000</td>\n",
       "      <td>222.000000</td>\n",
       "      <td>222.000000</td>\n",
       "      <td>222.000000</td>\n",
       "      <td>222.000000</td>\n",
       "    </tr>\n",
       "    <tr>\n",
       "      <th>mean</th>\n",
       "      <td>66.977928</td>\n",
       "      <td>4.486486</td>\n",
       "      <td>8.111261</td>\n",
       "      <td>22.371541</td>\n",
       "      <td>26.362363</td>\n",
       "      <td>35.440090</td>\n",
       "    </tr>\n",
       "    <tr>\n",
       "      <th>std</th>\n",
       "      <td>5.387635</td>\n",
       "      <td>1.607504</td>\n",
       "      <td>8.210837</td>\n",
       "      <td>15.680922</td>\n",
       "      <td>15.872609</td>\n",
       "      <td>4.089238</td>\n",
       "    </tr>\n",
       "    <tr>\n",
       "      <th>min</th>\n",
       "      <td>53.900000</td>\n",
       "      <td>1.500000</td>\n",
       "      <td>0.000000</td>\n",
       "      <td>0.000000</td>\n",
       "      <td>0.000000</td>\n",
       "      <td>24.400000</td>\n",
       "    </tr>\n",
       "    <tr>\n",
       "      <th>25%</th>\n",
       "      <td>63.325000</td>\n",
       "      <td>3.525000</td>\n",
       "      <td>2.700000</td>\n",
       "      <td>11.309249</td>\n",
       "      <td>14.195948</td>\n",
       "      <td>32.925000</td>\n",
       "    </tr>\n",
       "    <tr>\n",
       "      <th>50%</th>\n",
       "      <td>66.600000</td>\n",
       "      <td>4.200000</td>\n",
       "      <td>5.850000</td>\n",
       "      <td>17.563096</td>\n",
       "      <td>23.208703</td>\n",
       "      <td>35.200000</td>\n",
       "    </tr>\n",
       "    <tr>\n",
       "      <th>75%</th>\n",
       "      <td>71.375000</td>\n",
       "      <td>5.000000</td>\n",
       "      <td>10.300000</td>\n",
       "      <td>28.891582</td>\n",
       "      <td>34.437914</td>\n",
       "      <td>38.000000</td>\n",
       "    </tr>\n",
       "    <tr>\n",
       "      <th>max</th>\n",
       "      <td>77.700000</td>\n",
       "      <td>10.100000</td>\n",
       "      <td>47.000000</td>\n",
       "      <td>100.000000</td>\n",
       "      <td>100.000000</td>\n",
       "      <td>53.900000</td>\n",
       "    </tr>\n",
       "  </tbody>\n",
       "</table>\n",
       "</div>"
      ],
      "text/plain": [
       "       labour_participation_rate  labour_unemployment_rate  poverty_incidence  \\\n",
       "count                 222.000000                222.000000         222.000000   \n",
       "mean                   66.977928                  4.486486           8.111261   \n",
       "std                     5.387635                  1.607504           8.210837   \n",
       "min                    53.900000                  1.500000           0.000000   \n",
       "25%                    63.325000                  3.525000           2.700000   \n",
       "50%                    66.600000                  4.200000           5.850000   \n",
       "75%                    71.375000                  5.000000          10.300000   \n",
       "max                    77.700000                 10.100000          47.000000   \n",
       "\n",
       "       income_median_norm  expenditure_avg_norm        gini  \n",
       "count          222.000000            222.000000  222.000000  \n",
       "mean            22.371541             26.362363   35.440090  \n",
       "std             15.680922             15.872609    4.089238  \n",
       "min              0.000000              0.000000   24.400000  \n",
       "25%             11.309249             14.195948   32.925000  \n",
       "50%             17.563096             23.208703   35.200000  \n",
       "75%             28.891582             34.437914   38.000000  \n",
       "max            100.000000            100.000000   53.900000  "
      ]
     },
     "execution_count": 53,
     "metadata": {},
     "output_type": "execute_result"
    }
   ],
   "source": [
    "econ_int.describe()"
   ]
  },
  {
   "cell_type": "code",
   "execution_count": 10,
   "id": "2f58efd0",
   "metadata": {},
   "outputs": [],
   "source": [
    "social = social_int.melt('parlimen')"
   ]
  },
  {
   "cell_type": "code",
   "execution_count": 11,
   "id": "f74ab9e3",
   "metadata": {},
   "outputs": [],
   "source": [
    "econ = econ_int.melt('parlimen')"
   ]
  },
  {
   "cell_type": "code",
   "execution_count": 12,
   "id": "5d01f01b",
   "metadata": {},
   "outputs": [
    {
     "data": {
      "text/html": [
       "<div>\n",
       "<style scoped>\n",
       "    .dataframe tbody tr th:only-of-type {\n",
       "        vertical-align: middle;\n",
       "    }\n",
       "\n",
       "    .dataframe tbody tr th {\n",
       "        vertical-align: top;\n",
       "    }\n",
       "\n",
       "    .dataframe thead th {\n",
       "        text-align: right;\n",
       "    }\n",
       "</style>\n",
       "<table border=\"1\" class=\"dataframe\">\n",
       "  <thead>\n",
       "    <tr style=\"text-align: right;\">\n",
       "      <th></th>\n",
       "      <th>parlimen</th>\n",
       "      <th>variable</th>\n",
       "      <th>value</th>\n",
       "    </tr>\n",
       "  </thead>\n",
       "  <tbody>\n",
       "    <tr>\n",
       "      <th>0</th>\n",
       "      <td>P.001 Padang Besar</td>\n",
       "      <td>population_density_norm</td>\n",
       "      <td>1.422109</td>\n",
       "    </tr>\n",
       "    <tr>\n",
       "      <th>1</th>\n",
       "      <td>P.002 Kangar</td>\n",
       "      <td>population_density_norm</td>\n",
       "      <td>5.294015</td>\n",
       "    </tr>\n",
       "    <tr>\n",
       "      <th>2</th>\n",
       "      <td>P.003 Arau</td>\n",
       "      <td>population_density_norm</td>\n",
       "      <td>3.244530</td>\n",
       "    </tr>\n",
       "    <tr>\n",
       "      <th>3</th>\n",
       "      <td>P.004 Langkawi</td>\n",
       "      <td>population_density_norm</td>\n",
       "      <td>1.480269</td>\n",
       "    </tr>\n",
       "    <tr>\n",
       "      <th>4</th>\n",
       "      <td>P.005 Jerlun</td>\n",
       "      <td>population_density_norm</td>\n",
       "      <td>1.542703</td>\n",
       "    </tr>\n",
       "    <tr>\n",
       "      <th>...</th>\n",
       "      <td>...</td>\n",
       "      <td>...</td>\n",
       "      <td>...</td>\n",
       "    </tr>\n",
       "    <tr>\n",
       "      <th>1105</th>\n",
       "      <td>P.122 Seputeh</td>\n",
       "      <td>deaths_per_thousand</td>\n",
       "      <td>4.368843</td>\n",
       "    </tr>\n",
       "    <tr>\n",
       "      <th>1106</th>\n",
       "      <td>P.123 Cheras</td>\n",
       "      <td>deaths_per_thousand</td>\n",
       "      <td>4.351251</td>\n",
       "    </tr>\n",
       "    <tr>\n",
       "      <th>1107</th>\n",
       "      <td>P.124 Bandar Tun Razak</td>\n",
       "      <td>deaths_per_thousand</td>\n",
       "      <td>4.380142</td>\n",
       "    </tr>\n",
       "    <tr>\n",
       "      <th>1108</th>\n",
       "      <td>P.125 Putrajaya</td>\n",
       "      <td>deaths_per_thousand</td>\n",
       "      <td>1.923042</td>\n",
       "    </tr>\n",
       "    <tr>\n",
       "      <th>1109</th>\n",
       "      <td>P.166 Labuan</td>\n",
       "      <td>deaths_per_thousand</td>\n",
       "      <td>3.301093</td>\n",
       "    </tr>\n",
       "  </tbody>\n",
       "</table>\n",
       "<p>1110 rows × 3 columns</p>\n",
       "</div>"
      ],
      "text/plain": [
       "                    parlimen                 variable     value\n",
       "0         P.001 Padang Besar  population_density_norm  1.422109\n",
       "1               P.002 Kangar  population_density_norm  5.294015\n",
       "2                 P.003 Arau  population_density_norm  3.244530\n",
       "3             P.004 Langkawi  population_density_norm  1.480269\n",
       "4               P.005 Jerlun  population_density_norm  1.542703\n",
       "...                      ...                      ...       ...\n",
       "1105           P.122 Seputeh      deaths_per_thousand  4.368843\n",
       "1106            P.123 Cheras      deaths_per_thousand  4.351251\n",
       "1107  P.124 Bandar Tun Razak      deaths_per_thousand  4.380142\n",
       "1108         P.125 Putrajaya      deaths_per_thousand  1.923042\n",
       "1109            P.166 Labuan      deaths_per_thousand  3.301093\n",
       "\n",
       "[1110 rows x 3 columns]"
      ]
     },
     "execution_count": 12,
     "metadata": {},
     "output_type": "execute_result"
    }
   ],
   "source": [
    "social"
   ]
  },
  {
   "cell_type": "code",
   "execution_count": 57,
   "id": "408ecab6",
   "metadata": {},
   "outputs": [],
   "source": [
    "social.to_csv('wrangled_social_factors.csv', index=False)\n",
    "econ.to_csv('wrangled_economic_factors.csv', index=False)\n",
    "# businesses.to_csv('wrangled_businesses.csv', index=False)"
   ]
  },
  {
   "cell_type": "code",
   "execution_count": 44,
   "id": "94c89326",
   "metadata": {},
   "outputs": [
    {
     "data": {
      "text/html": [
       "<div>\n",
       "<style scoped>\n",
       "    .dataframe tbody tr th:only-of-type {\n",
       "        vertical-align: middle;\n",
       "    }\n",
       "\n",
       "    .dataframe tbody tr th {\n",
       "        vertical-align: top;\n",
       "    }\n",
       "\n",
       "    .dataframe thead th {\n",
       "        text-align: right;\n",
       "    }\n",
       "</style>\n",
       "<table border=\"1\" class=\"dataframe\">\n",
       "  <thead>\n",
       "    <tr style=\"text-align: right;\">\n",
       "      <th></th>\n",
       "      <th>parlimen</th>\n",
       "      <th>variable</th>\n",
       "      <th>value</th>\n",
       "    </tr>\n",
       "  </thead>\n",
       "  <tbody>\n",
       "    <tr>\n",
       "      <th>0</th>\n",
       "      <td>P.001 Padang Besar</td>\n",
       "      <td>population_density_norm</td>\n",
       "      <td>1.422109</td>\n",
       "    </tr>\n",
       "    <tr>\n",
       "      <th>1</th>\n",
       "      <td>P.002 Kangar</td>\n",
       "      <td>population_density_norm</td>\n",
       "      <td>5.294015</td>\n",
       "    </tr>\n",
       "    <tr>\n",
       "      <th>2</th>\n",
       "      <td>P.003 Arau</td>\n",
       "      <td>population_density_norm</td>\n",
       "      <td>3.244530</td>\n",
       "    </tr>\n",
       "    <tr>\n",
       "      <th>3</th>\n",
       "      <td>P.004 Langkawi</td>\n",
       "      <td>population_density_norm</td>\n",
       "      <td>1.480269</td>\n",
       "    </tr>\n",
       "    <tr>\n",
       "      <th>4</th>\n",
       "      <td>P.005 Jerlun</td>\n",
       "      <td>population_density_norm</td>\n",
       "      <td>1.542703</td>\n",
       "    </tr>\n",
       "    <tr>\n",
       "      <th>...</th>\n",
       "      <td>...</td>\n",
       "      <td>...</td>\n",
       "      <td>...</td>\n",
       "    </tr>\n",
       "    <tr>\n",
       "      <th>1105</th>\n",
       "      <td>P.122 Seputeh</td>\n",
       "      <td>deaths_per_thousand</td>\n",
       "      <td>4.368843</td>\n",
       "    </tr>\n",
       "    <tr>\n",
       "      <th>1106</th>\n",
       "      <td>P.123 Cheras</td>\n",
       "      <td>deaths_per_thousand</td>\n",
       "      <td>4.351251</td>\n",
       "    </tr>\n",
       "    <tr>\n",
       "      <th>1107</th>\n",
       "      <td>P.124 Bandar Tun Razak</td>\n",
       "      <td>deaths_per_thousand</td>\n",
       "      <td>4.380142</td>\n",
       "    </tr>\n",
       "    <tr>\n",
       "      <th>1108</th>\n",
       "      <td>P.125 Putrajaya</td>\n",
       "      <td>deaths_per_thousand</td>\n",
       "      <td>1.923042</td>\n",
       "    </tr>\n",
       "    <tr>\n",
       "      <th>1109</th>\n",
       "      <td>P.166 Labuan</td>\n",
       "      <td>deaths_per_thousand</td>\n",
       "      <td>3.301093</td>\n",
       "    </tr>\n",
       "  </tbody>\n",
       "</table>\n",
       "<p>1110 rows × 3 columns</p>\n",
       "</div>"
      ],
      "text/plain": [
       "                    parlimen                 variable     value\n",
       "0         P.001 Padang Besar  population_density_norm  1.422109\n",
       "1               P.002 Kangar  population_density_norm  5.294015\n",
       "2                 P.003 Arau  population_density_norm  3.244530\n",
       "3             P.004 Langkawi  population_density_norm  1.480269\n",
       "4               P.005 Jerlun  population_density_norm  1.542703\n",
       "...                      ...                      ...       ...\n",
       "1105           P.122 Seputeh      deaths_per_thousand  4.368843\n",
       "1106            P.123 Cheras      deaths_per_thousand  4.351251\n",
       "1107  P.124 Bandar Tun Razak      deaths_per_thousand  4.380142\n",
       "1108         P.125 Putrajaya      deaths_per_thousand  1.923042\n",
       "1109            P.166 Labuan      deaths_per_thousand  3.301093\n",
       "\n",
       "[1110 rows x 3 columns]"
      ]
     },
     "execution_count": 44,
     "metadata": {},
     "output_type": "execute_result"
    }
   ],
   "source": [
    "social['variable'].replace('population_density_norm', 'Population density', inplace=True)\n",
    "social['variable'].replace('household_size_avg_norm', 'Average household size', inplace=True)\n",
    "social['variable'].replace('housing_per_hundred', 'Housing per 100 people', inplace=True)\n",
    "social['variable'].replace('births_per_thousand', 'Live births per 1000 people', inplace=True)\n",
    "social['variable'].replace('deaths_per_thousand', 'Deaths per 1000 people', inplace=True)\n",
    "\n",
    "econ['variable'].replace('labour_participation_rate', 'Labour participation r')"
   ]
  },
  {
   "cell_type": "code",
   "execution_count": 14,
   "id": "e1b5ebe8",
   "metadata": {},
   "outputs": [
    {
     "data": {
      "text/plain": [
       "array(['labour_participation_rate', 'labour_unemployment_rate',\n",
       "       'poverty_incidence', 'income_median_norm', 'expenditure_avg_norm',\n",
       "       'gini'], dtype=object)"
      ]
     },
     "execution_count": 14,
     "metadata": {},
     "output_type": "execute_result"
    }
   ],
   "source": [
    "econ['variable'].unique()"
   ]
  },
  {
   "cell_type": "code",
   "execution_count": null,
   "id": "cc3b8150",
   "metadata": {},
   "outputs": [],
   "source": []
  }
 ],
 "metadata": {
  "kernelspec": {
   "display_name": "Python 3 (ipykernel)",
   "language": "python",
   "name": "python3"
  },
  "language_info": {
   "codemirror_mode": {
    "name": "ipython",
    "version": 3
   },
   "file_extension": ".py",
   "mimetype": "text/x-python",
   "name": "python",
   "nbconvert_exporter": "python",
   "pygments_lexer": "ipython3",
   "version": "3.10.2"
  }
 },
 "nbformat": 4,
 "nbformat_minor": 5
}
