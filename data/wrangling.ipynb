{
 "cells": [
  {
   "cell_type": "code",
   "execution_count": 1,
   "id": "37e1fbc8",
   "metadata": {},
   "outputs": [],
   "source": [
    "import numpy as np\n",
    "import pandas as pd"
   ]
  },
  {
   "cell_type": "code",
   "execution_count": 2,
   "id": "d1a84a4f",
   "metadata": {},
   "outputs": [],
   "source": [
    "candidates = pd.read_csv('candidates_ge15.csv')"
   ]
  },
  {
   "cell_type": "code",
   "execution_count": 25,
   "id": "da840598",
   "metadata": {},
   "outputs": [],
   "source": [
    "winners = candidates[candidates['result_desc'] == 'won']"
   ]
  },
  {
   "cell_type": "code",
   "execution_count": 26,
   "id": "45c4d281",
   "metadata": {},
   "outputs": [
    {
     "name": "stderr",
     "output_type": "stream",
     "text": [
      "/tmp/ipykernel_29279/2576665368.py:1: SettingWithCopyWarning: \n",
      "A value is trying to be set on a copy of a slice from a DataFrame\n",
      "\n",
      "See the caveats in the documentation: https://pandas.pydata.org/pandas-docs/stable/user_guide/indexing.html#returning-a-view-versus-a-copy\n",
      "  winners['party'].replace('BARISAN NASIONAL (BN)', 'Barisan Nasional (BN)', inplace=True)\n",
      "/tmp/ipykernel_29279/2576665368.py:2: SettingWithCopyWarning: \n",
      "A value is trying to be set on a copy of a slice from a DataFrame\n",
      "\n",
      "See the caveats in the documentation: https://pandas.pydata.org/pandas-docs/stable/user_guide/indexing.html#returning-a-view-versus-a-copy\n",
      "  winners['party'].replace('PAKATAN HARAPAN (PH)', 'Pakatan Harapan (PH)', inplace=True)\n",
      "/tmp/ipykernel_29279/2576665368.py:3: SettingWithCopyWarning: \n",
      "A value is trying to be set on a copy of a slice from a DataFrame\n",
      "\n",
      "See the caveats in the documentation: https://pandas.pydata.org/pandas-docs/stable/user_guide/indexing.html#returning-a-view-versus-a-copy\n",
      "  winners['party'].replace('PARTI TINDAKAN DEMOKRATIK (DAP)', 'Democratic Action Party (DAP)', inplace=True)\n",
      "/tmp/ipykernel_29279/2576665368.py:4: SettingWithCopyWarning: \n",
      "A value is trying to be set on a copy of a slice from a DataFrame\n",
      "\n",
      "See the caveats in the documentation: https://pandas.pydata.org/pandas-docs/stable/user_guide/indexing.html#returning-a-view-versus-a-copy\n",
      "  winners['party'].replace('IKATAN DEMOKRATIK MALAYSIA (MUDA)', 'Malaysian United Democratic Alliance (MUDA)', inplace=True)\n",
      "/tmp/ipykernel_29279/2576665368.py:5: SettingWithCopyWarning: \n",
      "A value is trying to be set on a copy of a slice from a DataFrame\n",
      "\n",
      "See the caveats in the documentation: https://pandas.pydata.org/pandas-docs/stable/user_guide/indexing.html#returning-a-view-versus-a-copy\n",
      "  winners['party'].replace('PERIKATAN NASIONAL (PN)', 'Perikatan Nasional (PN)', inplace=True)\n",
      "/tmp/ipykernel_29279/2576665368.py:6: SettingWithCopyWarning: \n",
      "A value is trying to be set on a copy of a slice from a DataFrame\n",
      "\n",
      "See the caveats in the documentation: https://pandas.pydata.org/pandas-docs/stable/user_guide/indexing.html#returning-a-view-versus-a-copy\n",
      "  winners['party'].replace('PARTI ISLAM SE MALAYSIA (PAS)', 'Parti Islam Se-Malaysia (PAS)', inplace=True)\n",
      "/tmp/ipykernel_29279/2576665368.py:7: SettingWithCopyWarning: \n",
      "A value is trying to be set on a copy of a slice from a DataFrame\n",
      "\n",
      "See the caveats in the documentation: https://pandas.pydata.org/pandas-docs/stable/user_guide/indexing.html#returning-a-view-versus-a-copy\n",
      "  winners['party'].replace('GABUNGAN PARTI SARAWAK (GPS)', 'Gabungan Parti Sarawak (GPS)', inplace=True)\n",
      "/tmp/ipykernel_29279/2576665368.py:8: SettingWithCopyWarning: \n",
      "A value is trying to be set on a copy of a slice from a DataFrame\n",
      "\n",
      "See the caveats in the documentation: https://pandas.pydata.org/pandas-docs/stable/user_guide/indexing.html#returning-a-view-versus-a-copy\n",
      "  winners['party'].replace('PARTI GABUNGAN RAKYAT SABAH (GRS)', 'Gabungan Rakyat Sabah (GRS)', inplace=True)\n",
      "/tmp/ipykernel_29279/2576665368.py:9: SettingWithCopyWarning: \n",
      "A value is trying to be set on a copy of a slice from a DataFrame\n",
      "\n",
      "See the caveats in the documentation: https://pandas.pydata.org/pandas-docs/stable/user_guide/indexing.html#returning-a-view-versus-a-copy\n",
      "  winners['party'].replace('PARTI WARISAN SABAH (WARISAN)', 'Parti Warisan (WARISAN)', inplace=True)\n",
      "/tmp/ipykernel_29279/2576665368.py:10: SettingWithCopyWarning: \n",
      "A value is trying to be set on a copy of a slice from a DataFrame\n",
      "\n",
      "See the caveats in the documentation: https://pandas.pydata.org/pandas-docs/stable/user_guide/indexing.html#returning-a-view-versus-a-copy\n",
      "  winners['party'].replace('PARTI KESEJAHTERAAN DEMOKRATIK MASYARAKAT (KDM)', 'Parti Kesejahteraan Demokratik Masyarakat (KDM)', inplace=True)\n",
      "/tmp/ipykernel_29279/2576665368.py:11: SettingWithCopyWarning: \n",
      "A value is trying to be set on a copy of a slice from a DataFrame\n",
      "\n",
      "See the caveats in the documentation: https://pandas.pydata.org/pandas-docs/stable/user_guide/indexing.html#returning-a-view-versus-a-copy\n",
      "  winners['party'].replace('PARTI BANGSA MALAYSIA (PBM)', 'Parti Bangsa Malaysia (PBM)', inplace=True)\n",
      "/tmp/ipykernel_29279/2576665368.py:12: SettingWithCopyWarning: \n",
      "A value is trying to be set on a copy of a slice from a DataFrame\n",
      "\n",
      "See the caveats in the documentation: https://pandas.pydata.org/pandas-docs/stable/user_guide/indexing.html#returning-a-view-versus-a-copy\n",
      "  winners['party'].replace('BEBAS (BEBAS)', 'Independent (BEBAS)', inplace=True)\n"
     ]
    }
   ],
   "source": [
    "winners['party'].replace('BARISAN NASIONAL (BN)', 'Barisan Nasional (BN)', inplace=True)\n",
    "winners['party'].replace('PAKATAN HARAPAN (PH)', 'Pakatan Harapan (PH)', inplace=True)\n",
    "winners['party'].replace('PARTI TINDAKAN DEMOKRATIK (DAP)', 'Democratic Action Party (DAP)', inplace=True)\n",
    "winners['party'].replace('IKATAN DEMOKRATIK MALAYSIA (MUDA)', 'Malaysian United Democratic Alliance (MUDA)', inplace=True)\n",
    "winners['party'].replace('PERIKATAN NASIONAL (PN)', 'Perikatan Nasional (PN)', inplace=True)\n",
    "winners['party'].replace('PARTI ISLAM SE MALAYSIA (PAS)', 'Parti Islam Se-Malaysia (PAS)', inplace=True)\n",
    "winners['party'].replace('GABUNGAN PARTI SARAWAK (GPS)', 'Gabungan Parti Sarawak (GPS)', inplace=True)\n",
    "winners['party'].replace('PARTI GABUNGAN RAKYAT SABAH (GRS)', 'Gabungan Rakyat Sabah (GRS)', inplace=True)\n",
    "winners['party'].replace('PARTI WARISAN SABAH (WARISAN)', 'Parti Warisan (WARISAN)', inplace=True)\n",
    "winners['party'].replace('PARTI KESEJAHTERAAN DEMOKRATIK MASYARAKAT (KDM)', 'Parti Kesejahteraan Demokratik Masyarakat (KDM)', inplace=True)\n",
    "winners['party'].replace('PARTI BANGSA MALAYSIA (PBM)', 'Parti Bangsa Malaysia (PBM)', inplace=True)\n",
    "winners['party'].replace('BEBAS (BEBAS)', 'Independent (BEBAS)', inplace=True)"
   ]
  },
  {
   "cell_type": "code",
   "execution_count": 13,
   "id": "00afa05d",
   "metadata": {},
   "outputs": [
    {
     "ename": "NameError",
     "evalue": "name 'results' is not defined",
     "output_type": "error",
     "traceback": [
      "\u001b[0;31m---------------------------------------------------------------------------\u001b[0m",
      "\u001b[0;31mNameError\u001b[0m                                 Traceback (most recent call last)",
      "Cell \u001b[0;32mIn[13], line 1\u001b[0m\n\u001b[0;32m----> 1\u001b[0m \u001b[43mresults\u001b[49m[[\u001b[38;5;124m'\u001b[39m\u001b[38;5;124mparlimen\u001b[39m\u001b[38;5;124m'\u001b[39m, \u001b[38;5;124m'\u001b[39m\u001b[38;5;124mmajoriti\u001b[39m\u001b[38;5;124m'\u001b[39m]]\n",
      "\u001b[0;31mNameError\u001b[0m: name 'results' is not defined"
     ]
    }
   ],
   "source": [
    "results[['parlimen', 'majoriti']]"
   ]
  },
  {
   "cell_type": "code",
   "execution_count": 5,
   "id": "2a7e304b",
   "metadata": {},
   "outputs": [],
   "source": [
    "census = pd.read_csv('census_parlimen.csv')"
   ]
  },
  {
   "cell_type": "code",
   "execution_count": 15,
   "id": "5f0e3c0e-ecfb-4584-ac79-d3d89c14e85d",
   "metadata": {},
   "outputs": [
    {
     "data": {
      "text/plain": [
       "687609"
      ]
     },
     "execution_count": 15,
     "metadata": {},
     "output_type": "execute_result"
    }
   ],
   "source": [
    "max(census['population_total'])"
   ]
  },
  {
   "cell_type": "code",
   "execution_count": 28,
   "id": "c23cd62b",
   "metadata": {},
   "outputs": [],
   "source": [
    "results = pd.read_csv('results_parlimen_ge15.csv')\n",
    "winners_complete = pd.merge(winners, results[['parlimen', 'undi_keluar_peti', 'majoriti', 'pengundi_jumlah', 'peratus_keluar']], on='parlimen', how='left')\n",
    "winners_complete = pd.merge(winners_complete, census[['parlimen', 'population_total', 'ethnicity_proportion_bumi', 'ethnicity_proportion_chinese', 'ethnicity_proportion_indian', 'ethnicity_proportion_other']], on='parlimen', how='left')"
   ]
  },
  {
   "cell_type": "code",
   "execution_count": 29,
   "id": "8ebc60f6",
   "metadata": {},
   "outputs": [],
   "source": [
    "winners_complete.fillna(np.nan, inplace=True)"
   ]
  },
  {
   "cell_type": "code",
   "execution_count": 30,
   "id": "11301709",
   "metadata": {},
   "outputs": [],
   "source": [
    "def convert_to_int(value):\n",
    "    try:\n",
    "        return int(value)\n",
    "    except (ValueError, TypeError):\n",
    "        return value\n",
    "winners_complete['majoriti'] = winners_complete['majoriti'].apply(convert_to_int)"
   ]
  },
  {
   "cell_type": "code",
   "execution_count": 31,
   "id": "7e356e6f",
   "metadata": {},
   "outputs": [],
   "source": [
    "winners_complete['undi_keluar_peti'] = winners_complete['undi_keluar_peti'].apply(convert_to_int)"
   ]
  },
  {
   "cell_type": "code",
   "execution_count": 40,
   "id": "668534e2-df57-442c-80f3-0bac1f38c4f5",
   "metadata": {},
   "outputs": [
    {
     "data": {
      "text/html": [
       "<div>\n",
       "<style scoped>\n",
       "    .dataframe tbody tr th:only-of-type {\n",
       "        vertical-align: middle;\n",
       "    }\n",
       "\n",
       "    .dataframe tbody tr th {\n",
       "        vertical-align: top;\n",
       "    }\n",
       "\n",
       "    .dataframe thead th {\n",
       "        text-align: right;\n",
       "    }\n",
       "</style>\n",
       "<table border=\"1\" class=\"dataframe\">\n",
       "  <thead>\n",
       "    <tr style=\"text-align: right;\">\n",
       "      <th></th>\n",
       "      <th>state</th>\n",
       "      <th>parlimen</th>\n",
       "      <th>ballot_order</th>\n",
       "      <th>name</th>\n",
       "      <th>name_display</th>\n",
       "      <th>age</th>\n",
       "      <th>sex</th>\n",
       "      <th>ethnicity</th>\n",
       "      <th>party</th>\n",
       "      <th>votes</th>\n",
       "      <th>...</th>\n",
       "      <th>new_mp</th>\n",
       "      <th>undi_keluar_peti</th>\n",
       "      <th>majoriti</th>\n",
       "      <th>pengundi_jumlah</th>\n",
       "      <th>peratus_keluar</th>\n",
       "      <th>population_total</th>\n",
       "      <th>ethnicity_proportion_bumi</th>\n",
       "      <th>ethnicity_proportion_chinese</th>\n",
       "      <th>ethnicity_proportion_indian</th>\n",
       "      <th>ethnicity_proportion_other</th>\n",
       "    </tr>\n",
       "  </thead>\n",
       "  <tbody>\n",
       "    <tr>\n",
       "      <th>16</th>\n",
       "      <td>Kedah</td>\n",
       "      <td>P.017 Padang Serai</td>\n",
       "      <td>4</td>\n",
       "      <td>Azman Bin Nasrudin</td>\n",
       "      <td>DATO' CIKGU AZMAN</td>\n",
       "      <td>50.0</td>\n",
       "      <td>male</td>\n",
       "      <td>bumiputera</td>\n",
       "      <td>Perikatan Nasional (PN)</td>\n",
       "      <td>51637</td>\n",
       "      <td>...</td>\n",
       "      <td>1</td>\n",
       "      <td>NaN</td>\n",
       "      <td>NaN</td>\n",
       "      <td>133867</td>\n",
       "      <td>NaN</td>\n",
       "      <td>261937</td>\n",
       "      <td>70.114592</td>\n",
       "      <td>14.160656</td>\n",
       "      <td>15.204471</td>\n",
       "      <td>0.52028</td>\n",
       "    </tr>\n",
       "  </tbody>\n",
       "</table>\n",
       "<p>1 rows × 22 columns</p>\n",
       "</div>"
      ],
      "text/plain": [
       "    state            parlimen  ballot_order                name  \\\n",
       "16  Kedah  P.017 Padang Serai             4  Azman Bin Nasrudin   \n",
       "\n",
       "         name_display   age   sex   ethnicity                    party  votes  \\\n",
       "16  DATO' CIKGU AZMAN  50.0  male  bumiputera  Perikatan Nasional (PN)  51637   \n",
       "\n",
       "    ...  new_mp undi_keluar_peti  majoriti  pengundi_jumlah  peratus_keluar  \\\n",
       "16  ...       1              NaN       NaN           133867             NaN   \n",
       "\n",
       "    population_total  ethnicity_proportion_bumi  ethnicity_proportion_chinese  \\\n",
       "16            261937                  70.114592                     14.160656   \n",
       "\n",
       "    ethnicity_proportion_indian  ethnicity_proportion_other  \n",
       "16                    15.204471                     0.52028  \n",
       "\n",
       "[1 rows x 22 columns]"
      ]
     },
     "execution_count": 40,
     "metadata": {},
     "output_type": "execute_result"
    }
   ],
   "source": [
    "winners_complete[winners_complete['parlimen'] == 'P.017 Padang Serai']"
   ]
  },
  {
   "cell_type": "code",
   "execution_count": 38,
   "id": "3e63c4e6",
   "metadata": {},
   "outputs": [],
   "source": [
    "winners_complete.to_csv('wrangled_winners_ge15.csv', index=False)"
   ]
  },
  {
   "cell_type": "code",
   "execution_count": 2,
   "id": "64b7a889",
   "metadata": {},
   "outputs": [],
   "source": [
    "voters = pd.read_csv('voters_ge15.csv')"
   ]
  },
  {
   "cell_type": "code",
   "execution_count": 14,
   "id": "c1082e58",
   "metadata": {},
   "outputs": [],
   "source": [
    "ages = voters[voters.columns[4:22]].melt().groupby('variable', as_index=False)['value'].sum()"
   ]
  },
  {
   "cell_type": "code",
   "execution_count": 31,
   "id": "fa363396",
   "metadata": {},
   "outputs": [],
   "source": [
    "voters_age = pd.DataFrame()\n",
    "for index, row in ages.iterrows():\n",
    "    unpacked = row['variable'].split('_')\n",
    "    if len(unpacked) == 2:\n",
    "        entry = {'gender': [unpacked[0]], 'age_group': [unpacked[1]], 'population': [row['value']]}\n",
    "    else:\n",
    "        entry = {'gender': [unpacked[0]], 'age_group': [f'{unpacked[1]}-{unpacked[2]}'], 'population': [row['value']]}\n",
    "    entry = pd.DataFrame(entry)\n",
    "    voters_age = pd.concat([voters_age, entry], ignore_index=True)"
   ]
  },
  {
   "cell_type": "code",
   "execution_count": 32,
   "id": "783b6bf8",
   "metadata": {},
   "outputs": [
    {
     "data": {
      "text/html": [
       "<div>\n",
       "<style scoped>\n",
       "    .dataframe tbody tr th:only-of-type {\n",
       "        vertical-align: middle;\n",
       "    }\n",
       "\n",
       "    .dataframe tbody tr th {\n",
       "        vertical-align: top;\n",
       "    }\n",
       "\n",
       "    .dataframe thead th {\n",
       "        text-align: right;\n",
       "    }\n",
       "</style>\n",
       "<table border=\"1\" class=\"dataframe\">\n",
       "  <thead>\n",
       "    <tr style=\"text-align: right;\">\n",
       "      <th></th>\n",
       "      <th>gender</th>\n",
       "      <th>age_group</th>\n",
       "      <th>population</th>\n",
       "    </tr>\n",
       "  </thead>\n",
       "  <tbody>\n",
       "    <tr>\n",
       "      <th>0</th>\n",
       "      <td>female</td>\n",
       "      <td>18-20</td>\n",
       "      <td>676070</td>\n",
       "    </tr>\n",
       "    <tr>\n",
       "      <th>1</th>\n",
       "      <td>female</td>\n",
       "      <td>21-29</td>\n",
       "      <td>2248215</td>\n",
       "    </tr>\n",
       "    <tr>\n",
       "      <th>2</th>\n",
       "      <td>female</td>\n",
       "      <td>30-39</td>\n",
       "      <td>2297015</td>\n",
       "    </tr>\n",
       "    <tr>\n",
       "      <th>3</th>\n",
       "      <td>female</td>\n",
       "      <td>40-49</td>\n",
       "      <td>1816016</td>\n",
       "    </tr>\n",
       "    <tr>\n",
       "      <th>4</th>\n",
       "      <td>female</td>\n",
       "      <td>50-59</td>\n",
       "      <td>1537394</td>\n",
       "    </tr>\n",
       "    <tr>\n",
       "      <th>5</th>\n",
       "      <td>female</td>\n",
       "      <td>60-69</td>\n",
       "      <td>1187031</td>\n",
       "    </tr>\n",
       "    <tr>\n",
       "      <th>6</th>\n",
       "      <td>female</td>\n",
       "      <td>70-79</td>\n",
       "      <td>596341</td>\n",
       "    </tr>\n",
       "    <tr>\n",
       "      <th>7</th>\n",
       "      <td>female</td>\n",
       "      <td>80-89</td>\n",
       "      <td>214438</td>\n",
       "    </tr>\n",
       "    <tr>\n",
       "      <th>8</th>\n",
       "      <td>female</td>\n",
       "      <td>90+</td>\n",
       "      <td>49631</td>\n",
       "    </tr>\n",
       "    <tr>\n",
       "      <th>9</th>\n",
       "      <td>male</td>\n",
       "      <td>18-20</td>\n",
       "      <td>717479</td>\n",
       "    </tr>\n",
       "    <tr>\n",
       "      <th>10</th>\n",
       "      <td>male</td>\n",
       "      <td>21-29</td>\n",
       "      <td>2366214</td>\n",
       "    </tr>\n",
       "    <tr>\n",
       "      <th>11</th>\n",
       "      <td>male</td>\n",
       "      <td>30-39</td>\n",
       "      <td>2384332</td>\n",
       "    </tr>\n",
       "    <tr>\n",
       "      <th>12</th>\n",
       "      <td>male</td>\n",
       "      <td>40-49</td>\n",
       "      <td>1829232</td>\n",
       "    </tr>\n",
       "    <tr>\n",
       "      <th>13</th>\n",
       "      <td>male</td>\n",
       "      <td>50-59</td>\n",
       "      <td>1490104</td>\n",
       "    </tr>\n",
       "    <tr>\n",
       "      <th>14</th>\n",
       "      <td>male</td>\n",
       "      <td>60-69</td>\n",
       "      <td>1090040</td>\n",
       "    </tr>\n",
       "    <tr>\n",
       "      <th>15</th>\n",
       "      <td>male</td>\n",
       "      <td>70-79</td>\n",
       "      <td>497610</td>\n",
       "    </tr>\n",
       "    <tr>\n",
       "      <th>16</th>\n",
       "      <td>male</td>\n",
       "      <td>80-89</td>\n",
       "      <td>139193</td>\n",
       "    </tr>\n",
       "    <tr>\n",
       "      <th>17</th>\n",
       "      <td>male</td>\n",
       "      <td>90+</td>\n",
       "      <td>37283</td>\n",
       "    </tr>\n",
       "  </tbody>\n",
       "</table>\n",
       "</div>"
      ],
      "text/plain": [
       "    gender age_group  population\n",
       "0   female     18-20      676070\n",
       "1   female     21-29     2248215\n",
       "2   female     30-39     2297015\n",
       "3   female     40-49     1816016\n",
       "4   female     50-59     1537394\n",
       "5   female     60-69     1187031\n",
       "6   female     70-79      596341\n",
       "7   female     80-89      214438\n",
       "8   female       90+       49631\n",
       "9     male     18-20      717479\n",
       "10    male     21-29     2366214\n",
       "11    male     30-39     2384332\n",
       "12    male     40-49     1829232\n",
       "13    male     50-59     1490104\n",
       "14    male     60-69     1090040\n",
       "15    male     70-79      497610\n",
       "16    male     80-89      139193\n",
       "17    male       90+       37283"
      ]
     },
     "execution_count": 32,
     "metadata": {},
     "output_type": "execute_result"
    }
   ],
   "source": [
    "voters_age"
   ]
  },
  {
   "cell_type": "code",
   "execution_count": 33,
   "id": "edef7e91",
   "metadata": {},
   "outputs": [],
   "source": [
    "voters_age.to_csv('wrangled_voters_age_ge15.csv', index=False)"
   ]
  },
  {
   "cell_type": "code",
   "execution_count": 90,
   "id": "6e887239",
   "metadata": {},
   "outputs": [],
   "source": [
    "ge15 = pd.read_csv('candidates_ge15.csv')\n",
    "ge14 = pd.read_csv('candidates_ge14.csv')"
   ]
  },
  {
   "cell_type": "code",
   "execution_count": 91,
   "id": "dc73cff9",
   "metadata": {},
   "outputs": [],
   "source": [
    "ge15 = ge15[ge15['result'] == 1]\n",
    "ge14 = ge14[ge14['result'] == 1]"
   ]
  },
  {
   "cell_type": "code",
   "execution_count": 8,
   "id": "4e1770c2",
   "metadata": {},
   "outputs": [
    {
     "data": {
      "text/plain": [
       "array(['PERIKATAN NASIONAL (PN)', 'PAKATAN HARAPAN (PH)',\n",
       "       'PARTI ISLAM SE MALAYSIA (PAS)', 'BARISAN NASIONAL (BN)',\n",
       "       'IKATAN DEMOKRATIK MALAYSIA (MUDA)', 'BEBAS (BEBAS)',\n",
       "       'PARTI KESEJAHTERAAN DEMOKRATIK MASYARAKAT (KDM)',\n",
       "       'PARTI WARISAN SABAH (WARISAN)',\n",
       "       'PARTI GABUNGAN RAKYAT SABAH (GRS)',\n",
       "       'PARTI TINDAKAN DEMOKRATIK (DAP)', 'GABUNGAN PARTI SARAWAK (GPS)',\n",
       "       'PARTI BANGSA MALAYSIA (PBM)'], dtype=object)"
      ]
     },
     "execution_count": 8,
     "metadata": {},
     "output_type": "execute_result"
    }
   ],
   "source": [
    "ge15['party'].unique()"
   ]
  },
  {
   "cell_type": "code",
   "execution_count": 9,
   "id": "aba9dd28",
   "metadata": {},
   "outputs": [
    {
     "data": {
      "text/plain": [
       "array(['BARISAN NASIONAL (BN)', 'PARTI KEADILAN RAKYAT (PKR)',\n",
       "       'PARTI ISLAM SE MALAYSIA (PAS)', 'BEBAS (BEBAS)',\n",
       "       'PARTI WARISAN SABAH (WARISAN)', 'PARTI TINDAKAN DEMOKRATIK (DAP)',\n",
       "       'PARTI SOLIDARITI TANAH AIRKU (SOLIDARITI)'], dtype=object)"
      ]
     },
     "execution_count": 9,
     "metadata": {},
     "output_type": "execute_result"
    }
   ],
   "source": [
    "ge14['party'].unique()"
   ]
  },
  {
   "cell_type": "code",
   "execution_count": 92,
   "id": "f1e65403",
   "metadata": {},
   "outputs": [],
   "source": [
    "parties = {\n",
    "    'PERIKATAN NASIONAL (PN)': 'Perikatan Nasional (PN)',\n",
    "    'PAKATAN HARAPAN (PH)': 'Pakatan Harapan (PH)',\n",
    "    'PARTI ISLAM SE MALAYSIA (PAS)': 'Perikatan Nasional (PN)',\n",
    "    'BARISAN NASIONAL (BN)': 'Barisan Nasional (BN)',\n",
    "    'IKATAN DEMOKRATIK MALAYSIA (MUDA)': 'Pakatan Harapan (PH)',\n",
    "#     'BEBAS (BEBAS)': 'Independent (BEBAS)',\n",
    "   #'PARTI KESEJAHTERAAN DEMOKRATIK MASYARAKAT (KDM)': 'Gabungan Rakyat Sabah (GRS)',\n",
    "   #'PARTI WARISAN SABAH (WARISAN)': 'Parti Warisan (WARISAN)',\n",
    "   #'PARTI GABUNGAN RAKYAT SABAH (GRS)': 'Gabungan Rakyat Sabah (GRS)',\n",
    "   'PARTI TINDAKAN DEMOKRATIK (DAP)': 'Pakatan Harapan (PH)',\n",
    "   #'GABUNGAN PARTI SARAWAK (GPS)': 'Gabungan Parti Sarawak (GPS)',\n",
    "   #'PARTI BANGSA MALAYSIA (PBM)': 'Parti Bangsa Malaysia (PBM)',\n",
    "    'PARTI KEADILAN RAKYAT (PKR)': 'Pakatan Harapan (PH)',\n",
    "    #'PARTI SOLIDARITI TANAH AIRKU (SOLIDARITI)': 'Gabungan Rakyat Sabah (GRS)'\n",
    "}"
   ]
  },
  {
   "cell_type": "code",
   "execution_count": 93,
   "id": "f2f76baf",
   "metadata": {},
   "outputs": [],
   "source": [
    "for index, row in ge14.iterrows():\n",
    "    if row['party'] in parties:\n",
    "        ge14.at[index, 'party'] = parties[row['party']]\n",
    "        \n",
    "for index, row in ge15.iterrows():\n",
    "    if row['party'] in parties:\n",
    "        ge15.at[index, 'party'] = parties[row['party']]"
   ]
  },
  {
   "cell_type": "code",
   "execution_count": 94,
   "id": "847f71c1",
   "metadata": {},
   "outputs": [],
   "source": [
    "ge14 = ge14[ge14['party'].isin(['Barisan Nasional (BN)', 'Pakatan Harapan (PH)', 'Perikatan Nasional (PN)'])]\n",
    "ge15 = ge15[ge15['party'].isin(['Barisan Nasional (BN)', 'Pakatan Harapan (PH)', 'Perikatan Nasional (PN)'])]"
   ]
  },
  {
   "cell_type": "code",
   "execution_count": 95,
   "id": "bfbfb001",
   "metadata": {},
   "outputs": [],
   "source": [
    "ge14['state'].replace('W.P. Kuala Lumpur', 'Wilayah Persekutuan', inplace=True)\n",
    "ge15['state'].replace('W.P. Kuala Lumpur', 'Wilayah Persekutuan', inplace=True)\n",
    "\n",
    "ge14['state'].replace('W.P. Labuan', 'Wilayah Persekutuan', inplace=True)\n",
    "ge15['state'].replace('W.P. Labuan', 'Wilayah Persekutuan', inplace=True)\n",
    "\n",
    "ge14['state'].replace('W.P. Putrajaya', 'Wilayah Persekutuan', inplace=True)\n",
    "ge15['state'].replace('W.P. Putrajaya', 'Wilayah Persekutuan', inplace=True)"
   ]
  },
  {
   "cell_type": "code",
   "execution_count": 96,
   "id": "9fdb66f0",
   "metadata": {},
   "outputs": [],
   "source": [
    "ge14_gb = ge14.groupby(['state', 'party'])['party'].count()"
   ]
  },
  {
   "cell_type": "code",
   "execution_count": 97,
   "id": "56762afb",
   "metadata": {},
   "outputs": [],
   "source": [
    "# Create a MultiIndex with all possible combinations of states and parties\n",
    "all_states = ge14_gb.index.get_level_values('state').unique()\n",
    "all_parties = ge14_gb.index.get_level_values('party').unique()\n",
    "all_combinations = pd.MultiIndex.from_product([all_states, all_parties], names=['state', 'party'])\n",
    "\n",
    "# Reindex the grouped DataFrame with the MultiIndex, filling missing values with zeroes\n",
    "ge14_fin = ge14_gb.reindex(all_combinations, fill_value=0).reset_index(name='count')"
   ]
  },
  {
   "cell_type": "code",
   "execution_count": 98,
   "id": "447d9d91",
   "metadata": {},
   "outputs": [],
   "source": [
    "ge15_gb = ge15.groupby(['state', 'party'])['party'].count()"
   ]
  },
  {
   "cell_type": "code",
   "execution_count": 99,
   "id": "f8d8a8f9",
   "metadata": {},
   "outputs": [],
   "source": [
    "# Create a MultiIndex with all possible combinations of states and parties\n",
    "all_states = ge15_gb.index.get_level_values('state').unique()\n",
    "all_parties = ge15_gb.index.get_level_values('party').unique()\n",
    "all_combinations = pd.MultiIndex.from_product([all_states, all_parties], names=['state', 'party'])\n",
    "\n",
    "# Reindex the grouped DataFrame with the MultiIndex, filling missing values with zeroes\n",
    "ge15_fin = ge15_gb.reindex(all_combinations, fill_value=0).reset_index(name='count')"
   ]
  },
  {
   "cell_type": "code",
   "execution_count": 104,
   "id": "b9882494",
   "metadata": {},
   "outputs": [],
   "source": [
    "ge14_15 = pd.merge(ge14_fin, ge15_fin, on=['state', 'party'])\n",
    "ge14_15.columns = ['state', 'party', '14', '15']"
   ]
  },
  {
   "cell_type": "code",
   "execution_count": 105,
   "id": "9c61fef9",
   "metadata": {},
   "outputs": [],
   "source": [
    "ge14_15 = pd.melt(ge14_15, id_vars=['state', 'party'], var_name='election', value_name='seats')\n",
    "col_order = ['seats', 'state', 'election', 'party']\n",
    "ge14_15 = ge14_15[col_order]"
   ]
  },
  {
   "cell_type": "code",
   "execution_count": 113,
   "id": "eb5c1b42",
   "metadata": {},
   "outputs": [],
   "source": [
    "ge14_15['election'] = ge14_15['election'].astype(int)"
   ]
  },
  {
   "cell_type": "code",
   "execution_count": 114,
   "id": "2732c913",
   "metadata": {},
   "outputs": [],
   "source": [
    "ge14_15.to_csv('wrangled_ge14_15.csv', index=False)"
   ]
  },
  {
   "cell_type": "code",
   "execution_count": 115,
   "id": "2f31a62c",
   "metadata": {},
   "outputs": [
    {
     "data": {
      "text/plain": [
       "0     14\n",
       "1     14\n",
       "2     14\n",
       "3     14\n",
       "4     14\n",
       "      ..\n",
       "79    15\n",
       "80    15\n",
       "81    15\n",
       "82    15\n",
       "83    15\n",
       "Name: election, Length: 84, dtype: int64"
      ]
     },
     "execution_count": 115,
     "metadata": {},
     "output_type": "execute_result"
    }
   ],
   "source": [
    "ge14_15['election']"
   ]
  },
  {
   "cell_type": "code",
   "execution_count": 7,
   "id": "74605795-b386-4e6d-99ee-9954b7d9d4d5",
   "metadata": {},
   "outputs": [
    {
     "data": {
      "text/plain": [
       "Index(['state', 'parlimen', 'code_state', 'code_parlimen', 'year', 'area_km2',\n",
       "       'population_total', 'nationality_citizen', 'nationality_non_citizen',\n",
       "       'sex_male', 'sex_female', 'ethnicity_proportion_bumi',\n",
       "       'ethnicity_proportion_chinese', 'ethnicity_proportion_indian',\n",
       "       'ethnicity_proportion_other', 'age_proportion_0_14',\n",
       "       'age_proportion_15_64', 'age_proportion_65_above',\n",
       "       'age_proportion_18_above', 'housing_total', 'household_total',\n",
       "       'household_size_avg', 'live_births', 'live_births_male',\n",
       "       'live_births_female', 'deaths', 'deaths_male', 'deaths_female',\n",
       "       'labour_participation_rate', 'labour_unemployment_rate',\n",
       "       'income_median', 'income_avg', 'expenditure_avg', 'gini',\n",
       "       'poverty_incidence', 'sme_small', 'sme_micro', 'sme_medium',\n",
       "       'businesses_agriculture', 'businesses_crops', 'businesses_livestock',\n",
       "       'businesses_fisheries', 'businesses_forestry', 'businesses_mining',\n",
       "       'businesses_manufacturing', 'businesses_construction',\n",
       "       'businesses_services', 'utilities_pipedwater_home',\n",
       "       'utilities_pipedwater_public', 'utilities_pipedwater_other',\n",
       "       'utilities_electricity_home', 'utilities_electricity_none'],\n",
       "      dtype='object')"
      ]
     },
     "execution_count": 7,
     "metadata": {},
     "output_type": "execute_result"
    }
   ],
   "source": [
    "census.columns"
   ]
  },
  {
   "cell_type": "code",
   "execution_count": 12,
   "id": "cc74765a",
   "metadata": {},
   "outputs": [],
   "source": [
    "social = census[['parlimen', 'live_births', 'deaths', 'labour_unemployment_rate', 'income_median', 'poverty_incidence', 'gini']].melt('parlimen')\n",
    "utilities = census[['parlimen', 'housing_total', 'utilities_pipedwater_home', 'utilities_pipedwater_public', 'utilities_pipedwater_other', 'utilities_electricity_home', 'utilities_electricity_none']].melt('parlimen')\n",
    "businesses = census[['parlimen', 'businesses_agriculture', 'businesses_forestry', 'businesses_mining', 'businesses_manufacturing', 'businesses_construction', 'businesses_services']].melt('parlimen')"
   ]
  },
  {
   "cell_type": "code",
   "execution_count": 14,
   "id": "1a3fbde6",
   "metadata": {},
   "outputs": [
    {
     "data": {
      "text/plain": [
       "array(['live_births', 'deaths', 'labour_unemployment_rate',\n",
       "       'income_median', 'poverty_incidence', 'gini'], dtype=object)"
      ]
     },
     "execution_count": 14,
     "metadata": {},
     "output_type": "execute_result"
    }
   ],
   "source": [
    "social['variable'].unique()"
   ]
  },
  {
   "cell_type": "code",
   "execution_count": null,
   "id": "1e632086",
   "metadata": {},
   "outputs": [],
   "source": []
  }
 ],
 "metadata": {
  "kernelspec": {
   "display_name": "Python 3 (ipykernel)",
   "language": "python",
   "name": "python3"
  },
  "language_info": {
   "codemirror_mode": {
    "name": "ipython",
    "version": 3
   },
   "file_extension": ".py",
   "mimetype": "text/x-python",
   "name": "python",
   "nbconvert_exporter": "python",
   "pygments_lexer": "ipython3",
   "version": "3.10.2"
  }
 },
 "nbformat": 4,
 "nbformat_minor": 5
}
