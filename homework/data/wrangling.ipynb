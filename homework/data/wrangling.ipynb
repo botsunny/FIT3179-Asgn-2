{
 "cells": [
  {
   "cell_type": "code",
   "execution_count": 1,
   "id": "37e1fbc8",
   "metadata": {},
   "outputs": [],
   "source": [
    "import pandas as pd"
   ]
  },
  {
   "cell_type": "code",
   "execution_count": 2,
   "id": "2a7e304b",
   "metadata": {},
   "outputs": [],
   "source": [
    "census = pd.read_csv('census_parlimen.csv')"
   ]
  },
  {
   "cell_type": "code",
   "execution_count": 5,
   "id": "83eb6071",
   "metadata": {},
   "outputs": [
    {
     "data": {
      "text/plain": [
       "Index(['state', 'parlimen', 'code_state', 'code_parlimen', 'year', 'area_km2',\n",
       "       'population_total', 'nationality_citizen', 'nationality_non_citizen',\n",
       "       'sex_male', 'sex_female', 'ethnicity_proportion_bumi',\n",
       "       'ethnicity_proportion_chinese', 'ethnicity_proportion_indian',\n",
       "       'ethnicity_proportion_other', 'age_proportion_0_14',\n",
       "       'age_proportion_15_64', 'age_proportion_65_above',\n",
       "       'age_proportion_18_above', 'housing_total', 'household_total',\n",
       "       'household_size_avg', 'live_births', 'live_births_male',\n",
       "       'live_births_female', 'deaths', 'deaths_male', 'deaths_female',\n",
       "       'labour_participation_rate', 'labour_unemployment_rate',\n",
       "       'income_median', 'income_avg', 'expenditure_avg', 'gini',\n",
       "       'poverty_incidence', 'sme_small', 'sme_micro', 'sme_medium',\n",
       "       'businesses_agriculture', 'businesses_crops', 'businesses_livestock',\n",
       "       'businesses_fisheries', 'businesses_forestry', 'businesses_mining',\n",
       "       'businesses_manufacturing', 'businesses_construction',\n",
       "       'businesses_services', 'utilities_pipedwater_home',\n",
       "       'utilities_pipedwater_public', 'utilities_pipedwater_other',\n",
       "       'utilities_electricity_home', 'utilities_electricity_none'],\n",
       "      dtype='object')"
      ]
     },
     "execution_count": 5,
     "metadata": {},
     "output_type": "execute_result"
    }
   ],
   "source": [
    "census.columns"
   ]
  },
  {
   "cell_type": "code",
   "execution_count": 14,
   "id": "a97d2140",
   "metadata": {},
   "outputs": [
    {
     "data": {
      "text/html": [
       "<div>\n",
       "<style scoped>\n",
       "    .dataframe tbody tr th:only-of-type {\n",
       "        vertical-align: middle;\n",
       "    }\n",
       "\n",
       "    .dataframe tbody tr th {\n",
       "        vertical-align: top;\n",
       "    }\n",
       "\n",
       "    .dataframe thead th {\n",
       "        text-align: right;\n",
       "    }\n",
       "</style>\n",
       "<table border=\"1\" class=\"dataframe\">\n",
       "  <thead>\n",
       "    <tr style=\"text-align: right;\">\n",
       "      <th></th>\n",
       "      <th>state</th>\n",
       "      <th>parlimen</th>\n",
       "      <th>ethnicity_proportion_bumi</th>\n",
       "      <th>ethnicity_proportion_chinese</th>\n",
       "      <th>ethnicity_proportion_indian</th>\n",
       "      <th>ethnicity_proportion_other</th>\n",
       "    </tr>\n",
       "  </thead>\n",
       "  <tbody>\n",
       "  </tbody>\n",
       "</table>\n",
       "</div>"
      ],
      "text/plain": [
       "Empty DataFrame\n",
       "Columns: [state, parlimen, ethnicity_proportion_bumi, ethnicity_proportion_chinese, ethnicity_proportion_indian, ethnicity_proportion_other]\n",
       "Index: []"
      ]
     },
     "execution_count": 14,
     "metadata": {},
     "output_type": "execute_result"
    }
   ],
   "source": [
    "condition = (census['ethnicity_proportion_other'] > census['ethnicity_proportion_bumi']) & (census['ethnicity_proportion_other'] > census['ethnicity_proportion_chinese']) & (census['ethnicity_proportion_other'] > census['ethnicity_proportion_indian'])\n",
    "census[condition][['state', 'parlimen', 'ethnicity_proportion_bumi', 'ethnicity_proportion_chinese', 'ethnicity_proportion_indian', 'ethnicity_proportion_other']]"
   ]
  },
  {
   "cell_type": "code",
   "execution_count": 9,
   "id": "bfec7287",
   "metadata": {},
   "outputs": [
    {
     "data": {
      "text/html": [
       "<div>\n",
       "<style scoped>\n",
       "    .dataframe tbody tr th:only-of-type {\n",
       "        vertical-align: middle;\n",
       "    }\n",
       "\n",
       "    .dataframe tbody tr th {\n",
       "        vertical-align: top;\n",
       "    }\n",
       "\n",
       "    .dataframe thead th {\n",
       "        text-align: right;\n",
       "    }\n",
       "</style>\n",
       "<table border=\"1\" class=\"dataframe\">\n",
       "  <thead>\n",
       "    <tr style=\"text-align: right;\">\n",
       "      <th></th>\n",
       "      <th>ethnicity_proportion_bumi</th>\n",
       "      <th>ethnicity_proportion_chinese</th>\n",
       "      <th>ethnicity_proportion_indian</th>\n",
       "      <th>ethnicity_proportion_other</th>\n",
       "    </tr>\n",
       "  </thead>\n",
       "  <tbody>\n",
       "    <tr>\n",
       "      <th>0</th>\n",
       "      <td>89.801841</td>\n",
       "      <td>5.640269</td>\n",
       "      <td>1.648548</td>\n",
       "      <td>2.909342</td>\n",
       "    </tr>\n",
       "    <tr>\n",
       "      <th>1</th>\n",
       "      <td>87.330294</td>\n",
       "      <td>9.576661</td>\n",
       "      <td>1.518090</td>\n",
       "      <td>1.574955</td>\n",
       "    </tr>\n",
       "    <tr>\n",
       "      <th>2</th>\n",
       "      <td>89.417322</td>\n",
       "      <td>6.576505</td>\n",
       "      <td>2.338846</td>\n",
       "      <td>1.667327</td>\n",
       "    </tr>\n",
       "    <tr>\n",
       "      <th>3</th>\n",
       "      <td>91.860246</td>\n",
       "      <td>5.122480</td>\n",
       "      <td>1.934122</td>\n",
       "      <td>1.083153</td>\n",
       "    </tr>\n",
       "    <tr>\n",
       "      <th>4</th>\n",
       "      <td>93.459416</td>\n",
       "      <td>4.178452</td>\n",
       "      <td>0.085618</td>\n",
       "      <td>2.276515</td>\n",
       "    </tr>\n",
       "    <tr>\n",
       "      <th>...</th>\n",
       "      <td>...</td>\n",
       "      <td>...</td>\n",
       "      <td>...</td>\n",
       "      <td>...</td>\n",
       "    </tr>\n",
       "    <tr>\n",
       "      <th>217</th>\n",
       "      <td>31.104142</td>\n",
       "      <td>57.315560</td>\n",
       "      <td>11.220941</td>\n",
       "      <td>0.359356</td>\n",
       "    </tr>\n",
       "    <tr>\n",
       "      <th>218</th>\n",
       "      <td>32.212144</td>\n",
       "      <td>59.551632</td>\n",
       "      <td>7.580135</td>\n",
       "      <td>0.656090</td>\n",
       "    </tr>\n",
       "    <tr>\n",
       "      <th>219</th>\n",
       "      <td>67.937196</td>\n",
       "      <td>23.355622</td>\n",
       "      <td>8.323161</td>\n",
       "      <td>0.384021</td>\n",
       "    </tr>\n",
       "    <tr>\n",
       "      <th>220</th>\n",
       "      <td>97.897181</td>\n",
       "      <td>0.629812</td>\n",
       "      <td>1.224843</td>\n",
       "      <td>0.248165</td>\n",
       "    </tr>\n",
       "    <tr>\n",
       "      <th>221</th>\n",
       "      <td>86.217492</td>\n",
       "      <td>11.677819</td>\n",
       "      <td>1.057090</td>\n",
       "      <td>1.047599</td>\n",
       "    </tr>\n",
       "  </tbody>\n",
       "</table>\n",
       "<p>222 rows × 4 columns</p>\n",
       "</div>"
      ],
      "text/plain": [
       "     ethnicity_proportion_bumi  ethnicity_proportion_chinese  \\\n",
       "0                    89.801841                      5.640269   \n",
       "1                    87.330294                      9.576661   \n",
       "2                    89.417322                      6.576505   \n",
       "3                    91.860246                      5.122480   \n",
       "4                    93.459416                      4.178452   \n",
       "..                         ...                           ...   \n",
       "217                  31.104142                     57.315560   \n",
       "218                  32.212144                     59.551632   \n",
       "219                  67.937196                     23.355622   \n",
       "220                  97.897181                      0.629812   \n",
       "221                  86.217492                     11.677819   \n",
       "\n",
       "     ethnicity_proportion_indian  ethnicity_proportion_other  \n",
       "0                       1.648548                    2.909342  \n",
       "1                       1.518090                    1.574955  \n",
       "2                       2.338846                    1.667327  \n",
       "3                       1.934122                    1.083153  \n",
       "4                       0.085618                    2.276515  \n",
       "..                           ...                         ...  \n",
       "217                    11.220941                    0.359356  \n",
       "218                     7.580135                    0.656090  \n",
       "219                     8.323161                    0.384021  \n",
       "220                     1.224843                    0.248165  \n",
       "221                     1.057090                    1.047599  \n",
       "\n",
       "[222 rows x 4 columns]"
      ]
     },
     "execution_count": 9,
     "metadata": {},
     "output_type": "execute_result"
    }
   ],
   "source": [
    "census[['ethnicity_proportion_bumi',\n",
    "                   'ethnicity_proportion_chinese',\n",
    "                   'ethnicity_proportion_indian',\n",
    "                   'ethnicity_proportion_other']]"
   ]
  },
  {
   "cell_type": "code",
   "execution_count": null,
   "id": "64b7a889",
   "metadata": {},
   "outputs": [],
   "source": []
  }
 ],
 "metadata": {
  "kernelspec": {
   "display_name": "Python 3 (ipykernel)",
   "language": "python",
   "name": "python3"
  },
  "language_info": {
   "codemirror_mode": {
    "name": "ipython",
    "version": 3
   },
   "file_extension": ".py",
   "mimetype": "text/x-python",
   "name": "python",
   "nbconvert_exporter": "python",
   "pygments_lexer": "ipython3",
   "version": "3.10.2"
  }
 },
 "nbformat": 4,
 "nbformat_minor": 5
}
